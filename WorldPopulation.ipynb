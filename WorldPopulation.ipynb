{
 "cells": [
  {
   "cell_type": "markdown",
   "id": "4b2de627",
   "metadata": {},
   "source": [
    "# World Population (EDA)"
   ]
  },
  {
   "cell_type": "markdown",
   "id": "9cb0db45",
   "metadata": {},
   "source": [
    "## Import Packages"
   ]
  },
  {
   "cell_type": "code",
   "execution_count": 1,
   "id": "3ce2ca5b",
   "metadata": {},
   "outputs": [],
   "source": [
    "import pandas as pd\n",
    "import seaborn as sns\n",
    "import matplotlib.pyplot as plt\n",
    "import plotly.express as px"
   ]
  },
  {
   "cell_type": "markdown",
   "id": "0bcab5ad",
   "metadata": {},
   "source": [
    "## Import Dataset as df"
   ]
  },
  {
   "cell_type": "code",
   "execution_count": 2,
   "id": "54e9d2b7",
   "metadata": {},
   "outputs": [],
   "source": [
    "df = pd.read_csv('world_population.csv') "
   ]
  },
  {
   "cell_type": "code",
   "execution_count": 3,
   "id": "612c5d73",
   "metadata": {},
   "outputs": [
    {
     "data": {
      "text/html": [
       "<div>\n",
       "<style scoped>\n",
       "    .dataframe tbody tr th:only-of-type {\n",
       "        vertical-align: middle;\n",
       "    }\n",
       "\n",
       "    .dataframe tbody tr th {\n",
       "        vertical-align: top;\n",
       "    }\n",
       "\n",
       "    .dataframe thead th {\n",
       "        text-align: right;\n",
       "    }\n",
       "</style>\n",
       "<table border=\"1\" class=\"dataframe\">\n",
       "  <thead>\n",
       "    <tr style=\"text-align: right;\">\n",
       "      <th></th>\n",
       "      <th>Rank</th>\n",
       "      <th>CCA3</th>\n",
       "      <th>Country/Territory</th>\n",
       "      <th>Capital</th>\n",
       "      <th>Continent</th>\n",
       "      <th>2022 Population</th>\n",
       "      <th>2020 Population</th>\n",
       "      <th>2015 Population</th>\n",
       "      <th>2010 Population</th>\n",
       "      <th>2000 Population</th>\n",
       "      <th>1990 Population</th>\n",
       "      <th>1980 Population</th>\n",
       "      <th>1970 Population</th>\n",
       "      <th>Area (km²)</th>\n",
       "      <th>Density (per km²)</th>\n",
       "      <th>Growth Rate</th>\n",
       "      <th>World Population Percentage</th>\n",
       "    </tr>\n",
       "  </thead>\n",
       "  <tbody>\n",
       "    <tr>\n",
       "      <th>0</th>\n",
       "      <td>36</td>\n",
       "      <td>AFG</td>\n",
       "      <td>Afghanistan</td>\n",
       "      <td>Kabul</td>\n",
       "      <td>Asia</td>\n",
       "      <td>41128771</td>\n",
       "      <td>38972230</td>\n",
       "      <td>33753499</td>\n",
       "      <td>28189672</td>\n",
       "      <td>19542982</td>\n",
       "      <td>10694796</td>\n",
       "      <td>12486631</td>\n",
       "      <td>10752971</td>\n",
       "      <td>652230</td>\n",
       "      <td>63.0587</td>\n",
       "      <td>1.0257</td>\n",
       "      <td>0.52</td>\n",
       "    </tr>\n",
       "    <tr>\n",
       "      <th>1</th>\n",
       "      <td>138</td>\n",
       "      <td>ALB</td>\n",
       "      <td>Albania</td>\n",
       "      <td>Tirana</td>\n",
       "      <td>Europe</td>\n",
       "      <td>2842321</td>\n",
       "      <td>2866849</td>\n",
       "      <td>2882481</td>\n",
       "      <td>2913399</td>\n",
       "      <td>3182021</td>\n",
       "      <td>3295066</td>\n",
       "      <td>2941651</td>\n",
       "      <td>2324731</td>\n",
       "      <td>28748</td>\n",
       "      <td>98.8702</td>\n",
       "      <td>0.9957</td>\n",
       "      <td>0.04</td>\n",
       "    </tr>\n",
       "    <tr>\n",
       "      <th>2</th>\n",
       "      <td>34</td>\n",
       "      <td>DZA</td>\n",
       "      <td>Algeria</td>\n",
       "      <td>Algiers</td>\n",
       "      <td>Africa</td>\n",
       "      <td>44903225</td>\n",
       "      <td>43451666</td>\n",
       "      <td>39543154</td>\n",
       "      <td>35856344</td>\n",
       "      <td>30774621</td>\n",
       "      <td>25518074</td>\n",
       "      <td>18739378</td>\n",
       "      <td>13795915</td>\n",
       "      <td>2381741</td>\n",
       "      <td>18.8531</td>\n",
       "      <td>1.0164</td>\n",
       "      <td>0.56</td>\n",
       "    </tr>\n",
       "    <tr>\n",
       "      <th>3</th>\n",
       "      <td>213</td>\n",
       "      <td>ASM</td>\n",
       "      <td>American Samoa</td>\n",
       "      <td>Pago Pago</td>\n",
       "      <td>Oceania</td>\n",
       "      <td>44273</td>\n",
       "      <td>46189</td>\n",
       "      <td>51368</td>\n",
       "      <td>54849</td>\n",
       "      <td>58230</td>\n",
       "      <td>47818</td>\n",
       "      <td>32886</td>\n",
       "      <td>27075</td>\n",
       "      <td>199</td>\n",
       "      <td>222.4774</td>\n",
       "      <td>0.9831</td>\n",
       "      <td>0.00</td>\n",
       "    </tr>\n",
       "    <tr>\n",
       "      <th>4</th>\n",
       "      <td>203</td>\n",
       "      <td>AND</td>\n",
       "      <td>Andorra</td>\n",
       "      <td>Andorra la Vella</td>\n",
       "      <td>Europe</td>\n",
       "      <td>79824</td>\n",
       "      <td>77700</td>\n",
       "      <td>71746</td>\n",
       "      <td>71519</td>\n",
       "      <td>66097</td>\n",
       "      <td>53569</td>\n",
       "      <td>35611</td>\n",
       "      <td>19860</td>\n",
       "      <td>468</td>\n",
       "      <td>170.5641</td>\n",
       "      <td>1.0100</td>\n",
       "      <td>0.00</td>\n",
       "    </tr>\n",
       "    <tr>\n",
       "      <th>...</th>\n",
       "      <td>...</td>\n",
       "      <td>...</td>\n",
       "      <td>...</td>\n",
       "      <td>...</td>\n",
       "      <td>...</td>\n",
       "      <td>...</td>\n",
       "      <td>...</td>\n",
       "      <td>...</td>\n",
       "      <td>...</td>\n",
       "      <td>...</td>\n",
       "      <td>...</td>\n",
       "      <td>...</td>\n",
       "      <td>...</td>\n",
       "      <td>...</td>\n",
       "      <td>...</td>\n",
       "      <td>...</td>\n",
       "      <td>...</td>\n",
       "    </tr>\n",
       "    <tr>\n",
       "      <th>229</th>\n",
       "      <td>226</td>\n",
       "      <td>WLF</td>\n",
       "      <td>Wallis and Futuna</td>\n",
       "      <td>Mata-Utu</td>\n",
       "      <td>Oceania</td>\n",
       "      <td>11572</td>\n",
       "      <td>11655</td>\n",
       "      <td>12182</td>\n",
       "      <td>13142</td>\n",
       "      <td>14723</td>\n",
       "      <td>13454</td>\n",
       "      <td>11315</td>\n",
       "      <td>9377</td>\n",
       "      <td>142</td>\n",
       "      <td>81.4930</td>\n",
       "      <td>0.9953</td>\n",
       "      <td>0.00</td>\n",
       "    </tr>\n",
       "    <tr>\n",
       "      <th>230</th>\n",
       "      <td>172</td>\n",
       "      <td>ESH</td>\n",
       "      <td>Western Sahara</td>\n",
       "      <td>El Aaiún</td>\n",
       "      <td>Africa</td>\n",
       "      <td>575986</td>\n",
       "      <td>556048</td>\n",
       "      <td>491824</td>\n",
       "      <td>413296</td>\n",
       "      <td>270375</td>\n",
       "      <td>178529</td>\n",
       "      <td>116775</td>\n",
       "      <td>76371</td>\n",
       "      <td>266000</td>\n",
       "      <td>2.1654</td>\n",
       "      <td>1.0184</td>\n",
       "      <td>0.01</td>\n",
       "    </tr>\n",
       "    <tr>\n",
       "      <th>231</th>\n",
       "      <td>46</td>\n",
       "      <td>YEM</td>\n",
       "      <td>Yemen</td>\n",
       "      <td>Sanaa</td>\n",
       "      <td>Asia</td>\n",
       "      <td>33696614</td>\n",
       "      <td>32284046</td>\n",
       "      <td>28516545</td>\n",
       "      <td>24743946</td>\n",
       "      <td>18628700</td>\n",
       "      <td>13375121</td>\n",
       "      <td>9204938</td>\n",
       "      <td>6843607</td>\n",
       "      <td>527968</td>\n",
       "      <td>63.8232</td>\n",
       "      <td>1.0217</td>\n",
       "      <td>0.42</td>\n",
       "    </tr>\n",
       "    <tr>\n",
       "      <th>232</th>\n",
       "      <td>63</td>\n",
       "      <td>ZMB</td>\n",
       "      <td>Zambia</td>\n",
       "      <td>Lusaka</td>\n",
       "      <td>Africa</td>\n",
       "      <td>20017675</td>\n",
       "      <td>18927715</td>\n",
       "      <td>16248230</td>\n",
       "      <td>13792086</td>\n",
       "      <td>9891136</td>\n",
       "      <td>7686401</td>\n",
       "      <td>5720438</td>\n",
       "      <td>4281671</td>\n",
       "      <td>752612</td>\n",
       "      <td>26.5976</td>\n",
       "      <td>1.0280</td>\n",
       "      <td>0.25</td>\n",
       "    </tr>\n",
       "    <tr>\n",
       "      <th>233</th>\n",
       "      <td>74</td>\n",
       "      <td>ZWE</td>\n",
       "      <td>Zimbabwe</td>\n",
       "      <td>Harare</td>\n",
       "      <td>Africa</td>\n",
       "      <td>16320537</td>\n",
       "      <td>15669666</td>\n",
       "      <td>14154937</td>\n",
       "      <td>12839771</td>\n",
       "      <td>11834676</td>\n",
       "      <td>10113893</td>\n",
       "      <td>7049926</td>\n",
       "      <td>5202918</td>\n",
       "      <td>390757</td>\n",
       "      <td>41.7665</td>\n",
       "      <td>1.0204</td>\n",
       "      <td>0.20</td>\n",
       "    </tr>\n",
       "  </tbody>\n",
       "</table>\n",
       "<p>234 rows × 17 columns</p>\n",
       "</div>"
      ],
      "text/plain": [
       "     Rank CCA3  Country/Territory           Capital Continent  \\\n",
       "0      36  AFG        Afghanistan             Kabul      Asia   \n",
       "1     138  ALB            Albania            Tirana    Europe   \n",
       "2      34  DZA            Algeria           Algiers    Africa   \n",
       "3     213  ASM     American Samoa         Pago Pago   Oceania   \n",
       "4     203  AND            Andorra  Andorra la Vella    Europe   \n",
       "..    ...  ...                ...               ...       ...   \n",
       "229   226  WLF  Wallis and Futuna          Mata-Utu   Oceania   \n",
       "230   172  ESH     Western Sahara          El Aaiún    Africa   \n",
       "231    46  YEM              Yemen             Sanaa      Asia   \n",
       "232    63  ZMB             Zambia            Lusaka    Africa   \n",
       "233    74  ZWE           Zimbabwe            Harare    Africa   \n",
       "\n",
       "     2022 Population  2020 Population  2015 Population  2010 Population  \\\n",
       "0           41128771         38972230         33753499         28189672   \n",
       "1            2842321          2866849          2882481          2913399   \n",
       "2           44903225         43451666         39543154         35856344   \n",
       "3              44273            46189            51368            54849   \n",
       "4              79824            77700            71746            71519   \n",
       "..               ...              ...              ...              ...   \n",
       "229            11572            11655            12182            13142   \n",
       "230           575986           556048           491824           413296   \n",
       "231         33696614         32284046         28516545         24743946   \n",
       "232         20017675         18927715         16248230         13792086   \n",
       "233         16320537         15669666         14154937         12839771   \n",
       "\n",
       "     2000 Population  1990 Population  1980 Population  1970 Population  \\\n",
       "0           19542982         10694796         12486631         10752971   \n",
       "1            3182021          3295066          2941651          2324731   \n",
       "2           30774621         25518074         18739378         13795915   \n",
       "3              58230            47818            32886            27075   \n",
       "4              66097            53569            35611            19860   \n",
       "..               ...              ...              ...              ...   \n",
       "229            14723            13454            11315             9377   \n",
       "230           270375           178529           116775            76371   \n",
       "231         18628700         13375121          9204938          6843607   \n",
       "232          9891136          7686401          5720438          4281671   \n",
       "233         11834676         10113893          7049926          5202918   \n",
       "\n",
       "     Area (km²)  Density (per km²)  Growth Rate  World Population Percentage  \n",
       "0        652230            63.0587       1.0257                         0.52  \n",
       "1         28748            98.8702       0.9957                         0.04  \n",
       "2       2381741            18.8531       1.0164                         0.56  \n",
       "3           199           222.4774       0.9831                         0.00  \n",
       "4           468           170.5641       1.0100                         0.00  \n",
       "..          ...                ...          ...                          ...  \n",
       "229         142            81.4930       0.9953                         0.00  \n",
       "230      266000             2.1654       1.0184                         0.01  \n",
       "231      527968            63.8232       1.0217                         0.42  \n",
       "232      752612            26.5976       1.0280                         0.25  \n",
       "233      390757            41.7665       1.0204                         0.20  \n",
       "\n",
       "[234 rows x 17 columns]"
      ]
     },
     "execution_count": 3,
     "metadata": {},
     "output_type": "execute_result"
    }
   ],
   "source": [
    "df"
   ]
  },
  {
   "cell_type": "markdown",
   "id": "37d33c60",
   "metadata": {},
   "source": [
    "## Format The Floating Numbers Into 2 Decimals"
   ]
  },
  {
   "cell_type": "code",
   "execution_count": 5,
   "id": "aa362d66",
   "metadata": {},
   "outputs": [],
   "source": [
    "pd.set_option('display.float_format', lambda x: '%.2f' % x)\n"
   ]
  },
  {
   "cell_type": "markdown",
   "id": "7c36bad7",
   "metadata": {},
   "source": [
    "## Data Exploration  "
   ]
  },
  {
   "cell_type": "code",
   "execution_count": 6,
   "id": "1bcd3722",
   "metadata": {},
   "outputs": [
    {
     "data": {
      "text/html": [
       "<div>\n",
       "<style scoped>\n",
       "    .dataframe tbody tr th:only-of-type {\n",
       "        vertical-align: middle;\n",
       "    }\n",
       "\n",
       "    .dataframe tbody tr th {\n",
       "        vertical-align: top;\n",
       "    }\n",
       "\n",
       "    .dataframe thead th {\n",
       "        text-align: right;\n",
       "    }\n",
       "</style>\n",
       "<table border=\"1\" class=\"dataframe\">\n",
       "  <thead>\n",
       "    <tr style=\"text-align: right;\">\n",
       "      <th></th>\n",
       "      <th>Rank</th>\n",
       "      <th>2022 Population</th>\n",
       "      <th>2020 Population</th>\n",
       "      <th>2015 Population</th>\n",
       "      <th>2010 Population</th>\n",
       "      <th>2000 Population</th>\n",
       "      <th>1990 Population</th>\n",
       "      <th>1980 Population</th>\n",
       "      <th>1970 Population</th>\n",
       "      <th>Area (km²)</th>\n",
       "      <th>Density (per km²)</th>\n",
       "      <th>Growth Rate</th>\n",
       "      <th>World Population Percentage</th>\n",
       "    </tr>\n",
       "  </thead>\n",
       "  <tbody>\n",
       "    <tr>\n",
       "      <th>count</th>\n",
       "      <td>234.00</td>\n",
       "      <td>234.00</td>\n",
       "      <td>234.00</td>\n",
       "      <td>234.00</td>\n",
       "      <td>234.00</td>\n",
       "      <td>234.00</td>\n",
       "      <td>234.00</td>\n",
       "      <td>234.00</td>\n",
       "      <td>234.00</td>\n",
       "      <td>234.00</td>\n",
       "      <td>234.00</td>\n",
       "      <td>234.00</td>\n",
       "      <td>234.00</td>\n",
       "    </tr>\n",
       "    <tr>\n",
       "      <th>mean</th>\n",
       "      <td>117.50</td>\n",
       "      <td>34074414.71</td>\n",
       "      <td>33501070.95</td>\n",
       "      <td>31729956.24</td>\n",
       "      <td>29845235.03</td>\n",
       "      <td>26269468.82</td>\n",
       "      <td>22710220.79</td>\n",
       "      <td>18984616.97</td>\n",
       "      <td>15786908.81</td>\n",
       "      <td>581449.38</td>\n",
       "      <td>452.13</td>\n",
       "      <td>1.01</td>\n",
       "      <td>0.43</td>\n",
       "    </tr>\n",
       "    <tr>\n",
       "      <th>std</th>\n",
       "      <td>67.69</td>\n",
       "      <td>136766424.80</td>\n",
       "      <td>135589876.92</td>\n",
       "      <td>130404992.75</td>\n",
       "      <td>124218487.63</td>\n",
       "      <td>111698206.72</td>\n",
       "      <td>97832173.35</td>\n",
       "      <td>81785186.08</td>\n",
       "      <td>67795091.64</td>\n",
       "      <td>1761840.86</td>\n",
       "      <td>2066.12</td>\n",
       "      <td>0.01</td>\n",
       "      <td>1.71</td>\n",
       "    </tr>\n",
       "    <tr>\n",
       "      <th>min</th>\n",
       "      <td>1.00</td>\n",
       "      <td>510.00</td>\n",
       "      <td>520.00</td>\n",
       "      <td>564.00</td>\n",
       "      <td>596.00</td>\n",
       "      <td>651.00</td>\n",
       "      <td>700.00</td>\n",
       "      <td>733.00</td>\n",
       "      <td>752.00</td>\n",
       "      <td>1.00</td>\n",
       "      <td>0.03</td>\n",
       "      <td>0.91</td>\n",
       "      <td>0.00</td>\n",
       "    </tr>\n",
       "    <tr>\n",
       "      <th>25%</th>\n",
       "      <td>59.25</td>\n",
       "      <td>419738.50</td>\n",
       "      <td>415284.50</td>\n",
       "      <td>404676.00</td>\n",
       "      <td>393149.00</td>\n",
       "      <td>327242.00</td>\n",
       "      <td>264115.75</td>\n",
       "      <td>229614.25</td>\n",
       "      <td>155997.00</td>\n",
       "      <td>2650.00</td>\n",
       "      <td>38.42</td>\n",
       "      <td>1.00</td>\n",
       "      <td>0.01</td>\n",
       "    </tr>\n",
       "    <tr>\n",
       "      <th>50%</th>\n",
       "      <td>117.50</td>\n",
       "      <td>5559944.50</td>\n",
       "      <td>5493074.50</td>\n",
       "      <td>5307400.00</td>\n",
       "      <td>4942770.50</td>\n",
       "      <td>4292907.00</td>\n",
       "      <td>3825409.50</td>\n",
       "      <td>3141145.50</td>\n",
       "      <td>2604830.00</td>\n",
       "      <td>81199.50</td>\n",
       "      <td>95.35</td>\n",
       "      <td>1.01</td>\n",
       "      <td>0.07</td>\n",
       "    </tr>\n",
       "    <tr>\n",
       "      <th>75%</th>\n",
       "      <td>175.75</td>\n",
       "      <td>22476504.75</td>\n",
       "      <td>21447979.50</td>\n",
       "      <td>19730853.75</td>\n",
       "      <td>19159567.50</td>\n",
       "      <td>15762301.00</td>\n",
       "      <td>11869231.00</td>\n",
       "      <td>9826053.75</td>\n",
       "      <td>8817329.00</td>\n",
       "      <td>430425.75</td>\n",
       "      <td>238.93</td>\n",
       "      <td>1.02</td>\n",
       "      <td>0.28</td>\n",
       "    </tr>\n",
       "    <tr>\n",
       "      <th>max</th>\n",
       "      <td>234.00</td>\n",
       "      <td>1425887337.00</td>\n",
       "      <td>1424929781.00</td>\n",
       "      <td>1393715448.00</td>\n",
       "      <td>1348191368.00</td>\n",
       "      <td>1264099069.00</td>\n",
       "      <td>1153704252.00</td>\n",
       "      <td>982372466.00</td>\n",
       "      <td>822534450.00</td>\n",
       "      <td>17098242.00</td>\n",
       "      <td>23172.27</td>\n",
       "      <td>1.07</td>\n",
       "      <td>17.88</td>\n",
       "    </tr>\n",
       "  </tbody>\n",
       "</table>\n",
       "</div>"
      ],
      "text/plain": [
       "        Rank  2022 Population  2020 Population  2015 Population  \\\n",
       "count 234.00           234.00           234.00           234.00   \n",
       "mean  117.50      34074414.71      33501070.95      31729956.24   \n",
       "std    67.69     136766424.80     135589876.92     130404992.75   \n",
       "min     1.00           510.00           520.00           564.00   \n",
       "25%    59.25        419738.50        415284.50        404676.00   \n",
       "50%   117.50       5559944.50       5493074.50       5307400.00   \n",
       "75%   175.75      22476504.75      21447979.50      19730853.75   \n",
       "max   234.00    1425887337.00    1424929781.00    1393715448.00   \n",
       "\n",
       "       2010 Population  2000 Population  1990 Population  1980 Population  \\\n",
       "count           234.00           234.00           234.00           234.00   \n",
       "mean       29845235.03      26269468.82      22710220.79      18984616.97   \n",
       "std       124218487.63     111698206.72      97832173.35      81785186.08   \n",
       "min             596.00           651.00           700.00           733.00   \n",
       "25%          393149.00        327242.00        264115.75        229614.25   \n",
       "50%         4942770.50       4292907.00       3825409.50       3141145.50   \n",
       "75%        19159567.50      15762301.00      11869231.00       9826053.75   \n",
       "max      1348191368.00    1264099069.00    1153704252.00     982372466.00   \n",
       "\n",
       "       1970 Population  Area (km²)  Density (per km²)  Growth Rate  \\\n",
       "count           234.00      234.00             234.00       234.00   \n",
       "mean       15786908.81   581449.38             452.13         1.01   \n",
       "std        67795091.64  1761840.86            2066.12         0.01   \n",
       "min             752.00        1.00               0.03         0.91   \n",
       "25%          155997.00     2650.00              38.42         1.00   \n",
       "50%         2604830.00    81199.50              95.35         1.01   \n",
       "75%         8817329.00   430425.75             238.93         1.02   \n",
       "max       822534450.00 17098242.00           23172.27         1.07   \n",
       "\n",
       "       World Population Percentage  \n",
       "count                       234.00  \n",
       "mean                          0.43  \n",
       "std                           1.71  \n",
       "min                           0.00  \n",
       "25%                           0.01  \n",
       "50%                           0.07  \n",
       "75%                           0.28  \n",
       "max                          17.88  "
      ]
     },
     "execution_count": 6,
     "metadata": {},
     "output_type": "execute_result"
    }
   ],
   "source": [
    "df.describe()"
   ]
  },
  {
   "cell_type": "code",
   "execution_count": 7,
   "id": "12854d5d",
   "metadata": {},
   "outputs": [
    {
     "name": "stdout",
     "output_type": "stream",
     "text": [
      "<class 'pandas.core.frame.DataFrame'>\n",
      "RangeIndex: 234 entries, 0 to 233\n",
      "Data columns (total 17 columns):\n",
      " #   Column                       Non-Null Count  Dtype  \n",
      "---  ------                       --------------  -----  \n",
      " 0   Rank                         234 non-null    int64  \n",
      " 1   CCA3                         234 non-null    object \n",
      " 2   Country/Territory            234 non-null    object \n",
      " 3   Capital                      234 non-null    object \n",
      " 4   Continent                    234 non-null    object \n",
      " 5   2022 Population              234 non-null    int64  \n",
      " 6   2020 Population              234 non-null    int64  \n",
      " 7   2015 Population              234 non-null    int64  \n",
      " 8   2010 Population              234 non-null    int64  \n",
      " 9   2000 Population              234 non-null    int64  \n",
      " 10  1990 Population              234 non-null    int64  \n",
      " 11  1980 Population              234 non-null    int64  \n",
      " 12  1970 Population              234 non-null    int64  \n",
      " 13  Area (km²)                   234 non-null    int64  \n",
      " 14  Density (per km²)            234 non-null    float64\n",
      " 15  Growth Rate                  234 non-null    float64\n",
      " 16  World Population Percentage  234 non-null    float64\n",
      "dtypes: float64(3), int64(10), object(4)\n",
      "memory usage: 31.2+ KB\n"
     ]
    }
   ],
   "source": [
    "df.info()"
   ]
  },
  {
   "cell_type": "markdown",
   "id": "50932e87",
   "metadata": {},
   "source": []
  },
  {
   "cell_type": "markdown",
   "id": "18644ce7",
   "metadata": {},
   "source": [
    "## Data Cleaning"
   ]
  },
  {
   "cell_type": "markdown",
   "id": "d8c24237",
   "metadata": {},
   "source": [
    "### Check For Null Values"
   ]
  },
  {
   "cell_type": "markdown",
   "id": "ccf52b89",
   "metadata": {},
   "source": [
    "df.isnull().sum()"
   ]
  },
  {
   "cell_type": "code",
   "execution_count": 8,
   "id": "7bb84732",
   "metadata": {},
   "outputs": [
    {
     "data": {
      "text/plain": [
       "Rank                           0\n",
       "CCA3                           0\n",
       "Country/Territory              0\n",
       "Capital                        0\n",
       "Continent                      0\n",
       "2022 Population                0\n",
       "2020 Population                0\n",
       "2015 Population                0\n",
       "2010 Population                0\n",
       "2000 Population                0\n",
       "1990 Population                0\n",
       "1980 Population                0\n",
       "1970 Population                0\n",
       "Area (km²)                     0\n",
       "Density (per km²)              0\n",
       "Growth Rate                    0\n",
       "World Population Percentage    0\n",
       "dtype: int64"
      ]
     },
     "execution_count": 8,
     "metadata": {},
     "output_type": "execute_result"
    }
   ],
   "source": [
    "df.isnull().sum()"
   ]
  },
  {
   "cell_type": "markdown",
   "id": "0dc8a7fa",
   "metadata": {},
   "source": [
    "##### No missing values"
   ]
  },
  {
   "cell_type": "markdown",
   "id": "5882f891",
   "metadata": {},
   "source": [
    "### Check for Unique Values in The DataSet"
   ]
  },
  {
   "cell_type": "code",
   "execution_count": 9,
   "id": "907f5acb",
   "metadata": {},
   "outputs": [
    {
     "data": {
      "text/plain": [
       "Rank                           234\n",
       "CCA3                           234\n",
       "Country/Territory              234\n",
       "Capital                        234\n",
       "Continent                        6\n",
       "2022 Population                234\n",
       "2020 Population                234\n",
       "2015 Population                234\n",
       "2010 Population                234\n",
       "2000 Population                234\n",
       "1990 Population                234\n",
       "1980 Population                234\n",
       "1970 Population                234\n",
       "Area (km²)                     233\n",
       "Density (per km²)              234\n",
       "Growth Rate                    180\n",
       "World Population Percentage     70\n",
       "dtype: int64"
      ]
     },
     "execution_count": 9,
     "metadata": {},
     "output_type": "execute_result"
    }
   ],
   "source": [
    "df.nunique()"
   ]
  },
  {
   "cell_type": "markdown",
   "id": "1588f6dc",
   "metadata": {},
   "source": [
    "## Visualizations"
   ]
  },
  {
   "cell_type": "markdown",
   "id": "8102b3f2",
   "metadata": {},
   "source": [
    "## World Population Map"
   ]
  },
  {
   "cell_type": "code",
   "execution_count": 10,
   "id": "310f3b69",
   "metadata": {},
   "outputs": [
    {
     "data": {
      "application/vnd.plotly.v1+json": {
       "config": {
        "plotlyServerURL": "https://plot.ly"
       },
       "data": [
        {
         "coloraxis": "coloraxis",
         "geo": "geo",
         "hovertemplate": "<b>%{hovertext}</b><br><br>Country/Territory=%{location}<br>2022 Population=%{z}<extra></extra>",
         "hovertext": [
          "Afghanistan",
          "Albania",
          "Algeria",
          "American Samoa",
          "Andorra",
          "Angola",
          "Anguilla",
          "Antigua and Barbuda",
          "Argentina",
          "Armenia",
          "Aruba",
          "Australia",
          "Austria",
          "Azerbaijan",
          "Bahamas",
          "Bahrain",
          "Bangladesh",
          "Barbados",
          "Belarus",
          "Belgium",
          "Belize",
          "Benin",
          "Bermuda",
          "Bhutan",
          "Bolivia",
          "Bosnia and Herzegovina",
          "Botswana",
          "Brazil",
          "British Virgin Islands",
          "Brunei",
          "Bulgaria",
          "Burkina Faso",
          "Burundi",
          "Cambodia",
          "Cameroon",
          "Canada",
          "Cape Verde",
          "Cayman Islands",
          "Central African Republic",
          "Chad",
          "Chile",
          "China",
          "Colombia",
          "Comoros",
          "Cook Islands",
          "Costa Rica",
          "Croatia",
          "Cuba",
          "Curacao",
          "Cyprus",
          "Czech Republic",
          "Denmark",
          "Djibouti",
          "Dominica",
          "Dominican Republic",
          "DR Congo",
          "Ecuador",
          "Egypt",
          "El Salvador",
          "Equatorial Guinea",
          "Eritrea",
          "Estonia",
          "Eswatini",
          "Ethiopia",
          "Falkland Islands",
          "Faroe Islands",
          "Fiji",
          "Finland",
          "France",
          "French Guiana",
          "French Polynesia",
          "Gabon",
          "Gambia",
          "Georgia",
          "Germany",
          "Ghana",
          "Gibraltar",
          "Greece",
          "Greenland",
          "Grenada",
          "Guadeloupe",
          "Guam",
          "Guatemala",
          "Guernsey",
          "Guinea",
          "Guinea-Bissau",
          "Guyana",
          "Haiti",
          "Honduras",
          "Hong Kong",
          "Hungary",
          "Iceland",
          "India",
          "Indonesia",
          "Iran",
          "Iraq",
          "Ireland",
          "Isle of Man",
          "Israel",
          "Italy",
          "Ivory Coast",
          "Jamaica",
          "Japan",
          "Jersey",
          "Jordan",
          "Kazakhstan",
          "Kenya",
          "Kiribati",
          "Kuwait",
          "Kyrgyzstan",
          "Laos",
          "Latvia",
          "Lebanon",
          "Lesotho",
          "Liberia",
          "Libya",
          "Liechtenstein",
          "Lithuania",
          "Luxembourg",
          "Macau",
          "Madagascar",
          "Malawi",
          "Malaysia",
          "Maldives",
          "Mali",
          "Malta",
          "Marshall Islands",
          "Martinique",
          "Mauritania",
          "Mauritius",
          "Mayotte",
          "Mexico",
          "Micronesia",
          "Moldova",
          "Monaco",
          "Mongolia",
          "Montenegro",
          "Montserrat",
          "Morocco",
          "Mozambique",
          "Myanmar",
          "Namibia",
          "Nauru",
          "Nepal",
          "Netherlands",
          "New Caledonia",
          "New Zealand",
          "Nicaragua",
          "Niger",
          "Nigeria",
          "Niue",
          "North Korea",
          "North Macedonia",
          "Northern Mariana Islands",
          "Norway",
          "Oman",
          "Pakistan",
          "Palau",
          "Palestine",
          "Panama",
          "Papua New Guinea",
          "Paraguay",
          "Peru",
          "Philippines",
          "Poland",
          "Portugal",
          "Puerto Rico",
          "Qatar",
          "Republic of the Congo",
          "Reunion",
          "Romania",
          "Russia",
          "Rwanda",
          "Saint Barthelemy",
          "Saint Kitts and Nevis",
          "Saint Lucia",
          "Saint Martin",
          "Saint Pierre and Miquelon",
          "Saint Vincent and the Grenadines",
          "Samoa",
          "San Marino",
          "Sao Tome and Principe",
          "Saudi Arabia",
          "Senegal",
          "Serbia",
          "Seychelles",
          "Sierra Leone",
          "Singapore",
          "Sint Maarten",
          "Slovakia",
          "Slovenia",
          "Solomon Islands",
          "Somalia",
          "South Africa",
          "South Korea",
          "South Sudan",
          "Spain",
          "Sri Lanka",
          "Sudan",
          "Suriname",
          "Sweden",
          "Switzerland",
          "Syria",
          "Taiwan",
          "Tajikistan",
          "Tanzania",
          "Thailand",
          "Timor-Leste",
          "Togo",
          "Tokelau",
          "Tonga",
          "Trinidad and Tobago",
          "Tunisia",
          "Turkey",
          "Turkmenistan",
          "Turks and Caicos Islands",
          "Tuvalu",
          "Uganda",
          "Ukraine",
          "United Arab Emirates",
          "United Kingdom",
          "United States",
          "United States Virgin Islands",
          "Uruguay",
          "Uzbekistan",
          "Vanuatu",
          "Vatican City",
          "Venezuela",
          "Vietnam",
          "Wallis and Futuna",
          "Western Sahara",
          "Yemen",
          "Zambia",
          "Zimbabwe"
         ],
         "locationmode": "country names",
         "locations": [
          "Afghanistan",
          "Albania",
          "Algeria",
          "American Samoa",
          "Andorra",
          "Angola",
          "Anguilla",
          "Antigua and Barbuda",
          "Argentina",
          "Armenia",
          "Aruba",
          "Australia",
          "Austria",
          "Azerbaijan",
          "Bahamas",
          "Bahrain",
          "Bangladesh",
          "Barbados",
          "Belarus",
          "Belgium",
          "Belize",
          "Benin",
          "Bermuda",
          "Bhutan",
          "Bolivia",
          "Bosnia and Herzegovina",
          "Botswana",
          "Brazil",
          "British Virgin Islands",
          "Brunei",
          "Bulgaria",
          "Burkina Faso",
          "Burundi",
          "Cambodia",
          "Cameroon",
          "Canada",
          "Cape Verde",
          "Cayman Islands",
          "Central African Republic",
          "Chad",
          "Chile",
          "China",
          "Colombia",
          "Comoros",
          "Cook Islands",
          "Costa Rica",
          "Croatia",
          "Cuba",
          "Curacao",
          "Cyprus",
          "Czech Republic",
          "Denmark",
          "Djibouti",
          "Dominica",
          "Dominican Republic",
          "DR Congo",
          "Ecuador",
          "Egypt",
          "El Salvador",
          "Equatorial Guinea",
          "Eritrea",
          "Estonia",
          "Eswatini",
          "Ethiopia",
          "Falkland Islands",
          "Faroe Islands",
          "Fiji",
          "Finland",
          "France",
          "French Guiana",
          "French Polynesia",
          "Gabon",
          "Gambia",
          "Georgia",
          "Germany",
          "Ghana",
          "Gibraltar",
          "Greece",
          "Greenland",
          "Grenada",
          "Guadeloupe",
          "Guam",
          "Guatemala",
          "Guernsey",
          "Guinea",
          "Guinea-Bissau",
          "Guyana",
          "Haiti",
          "Honduras",
          "Hong Kong",
          "Hungary",
          "Iceland",
          "India",
          "Indonesia",
          "Iran",
          "Iraq",
          "Ireland",
          "Isle of Man",
          "Israel",
          "Italy",
          "Ivory Coast",
          "Jamaica",
          "Japan",
          "Jersey",
          "Jordan",
          "Kazakhstan",
          "Kenya",
          "Kiribati",
          "Kuwait",
          "Kyrgyzstan",
          "Laos",
          "Latvia",
          "Lebanon",
          "Lesotho",
          "Liberia",
          "Libya",
          "Liechtenstein",
          "Lithuania",
          "Luxembourg",
          "Macau",
          "Madagascar",
          "Malawi",
          "Malaysia",
          "Maldives",
          "Mali",
          "Malta",
          "Marshall Islands",
          "Martinique",
          "Mauritania",
          "Mauritius",
          "Mayotte",
          "Mexico",
          "Micronesia",
          "Moldova",
          "Monaco",
          "Mongolia",
          "Montenegro",
          "Montserrat",
          "Morocco",
          "Mozambique",
          "Myanmar",
          "Namibia",
          "Nauru",
          "Nepal",
          "Netherlands",
          "New Caledonia",
          "New Zealand",
          "Nicaragua",
          "Niger",
          "Nigeria",
          "Niue",
          "North Korea",
          "North Macedonia",
          "Northern Mariana Islands",
          "Norway",
          "Oman",
          "Pakistan",
          "Palau",
          "Palestine",
          "Panama",
          "Papua New Guinea",
          "Paraguay",
          "Peru",
          "Philippines",
          "Poland",
          "Portugal",
          "Puerto Rico",
          "Qatar",
          "Republic of the Congo",
          "Reunion",
          "Romania",
          "Russia",
          "Rwanda",
          "Saint Barthelemy",
          "Saint Kitts and Nevis",
          "Saint Lucia",
          "Saint Martin",
          "Saint Pierre and Miquelon",
          "Saint Vincent and the Grenadines",
          "Samoa",
          "San Marino",
          "Sao Tome and Principe",
          "Saudi Arabia",
          "Senegal",
          "Serbia",
          "Seychelles",
          "Sierra Leone",
          "Singapore",
          "Sint Maarten",
          "Slovakia",
          "Slovenia",
          "Solomon Islands",
          "Somalia",
          "South Africa",
          "South Korea",
          "South Sudan",
          "Spain",
          "Sri Lanka",
          "Sudan",
          "Suriname",
          "Sweden",
          "Switzerland",
          "Syria",
          "Taiwan",
          "Tajikistan",
          "Tanzania",
          "Thailand",
          "Timor-Leste",
          "Togo",
          "Tokelau",
          "Tonga",
          "Trinidad and Tobago",
          "Tunisia",
          "Turkey",
          "Turkmenistan",
          "Turks and Caicos Islands",
          "Tuvalu",
          "Uganda",
          "Ukraine",
          "United Arab Emirates",
          "United Kingdom",
          "United States",
          "United States Virgin Islands",
          "Uruguay",
          "Uzbekistan",
          "Vanuatu",
          "Vatican City",
          "Venezuela",
          "Vietnam",
          "Wallis and Futuna",
          "Western Sahara",
          "Yemen",
          "Zambia",
          "Zimbabwe"
         ],
         "name": "",
         "type": "choropleth",
         "z": [
          41128771,
          2842321,
          44903225,
          44273,
          79824,
          35588987,
          15857,
          93763,
          45510318,
          2780469,
          106445,
          26177413,
          8939617,
          10358074,
          409984,
          1472233,
          171186372,
          281635,
          9534954,
          11655930,
          405272,
          13352864,
          64184,
          782455,
          12224110,
          3233526,
          2630296,
          215313498,
          31305,
          449002,
          6781953,
          22673762,
          12889576,
          16767842,
          27914536,
          38454327,
          593149,
          68706,
          5579144,
          17723315,
          19603733,
          1425887337,
          51874024,
          836774,
          17011,
          5180829,
          4030358,
          11212191,
          191163,
          1251488,
          10493986,
          5882261,
          1120849,
          72737,
          11228821,
          99010212,
          18001000,
          110990103,
          6336392,
          1674908,
          3684032,
          1326062,
          1201670,
          123379924,
          3780,
          53090,
          929766,
          5540745,
          64626628,
          304557,
          306279,
          2388992,
          2705992,
          3744385,
          83369843,
          33475870,
          32649,
          10384971,
          56466,
          125438,
          395752,
          171774,
          17843908,
          63301,
          13859341,
          2105566,
          808726,
          11584996,
          10432860,
          7488865,
          9967308,
          372899,
          1417173173,
          275501339,
          88550570,
          44496122,
          5023109,
          84519,
          9038309,
          59037474,
          28160542,
          2827377,
          123951692,
          110778,
          11285869,
          19397998,
          54027487,
          131232,
          4268873,
          6630623,
          7529475,
          1850651,
          5489739,
          2305825,
          5302681,
          6812341,
          39327,
          2750055,
          647599,
          695168,
          29611714,
          20405317,
          33938221,
          523787,
          22593590,
          533286,
          41569,
          367507,
          4736139,
          1299469,
          326101,
          127504125,
          114164,
          3272996,
          36469,
          3398366,
          627082,
          4390,
          37457971,
          32969517,
          54179306,
          2567012,
          12668,
          30547580,
          17564014,
          289950,
          5185288,
          6948392,
          26207977,
          218541212,
          1934,
          26069416,
          2093599,
          49551,
          5434319,
          4576298,
          235824862,
          18055,
          5250072,
          4408581,
          10142619,
          6780744,
          34049588,
          115559009,
          39857145,
          10270865,
          3252407,
          2695122,
          5970424,
          974052,
          19659267,
          144713314,
          13776698,
          10967,
          47657,
          179857,
          31791,
          5862,
          103948,
          222382,
          33660,
          227380,
          36408820,
          17316449,
          7221365,
          107118,
          8605718,
          5975689,
          44175,
          5643453,
          2119844,
          724273,
          17597511,
          59893885,
          51815810,
          10913164,
          47558630,
          21832143,
          46874204,
          618040,
          10549347,
          8740472,
          22125249,
          23893394,
          9952787,
          65497748,
          71697030,
          1341296,
          8848699,
          1871,
          106858,
          1531044,
          12356117,
          85341241,
          6430770,
          45703,
          11312,
          47249585,
          39701739,
          9441129,
          67508936,
          338289857,
          99465,
          3422794,
          34627652,
          326740,
          510,
          28301696,
          98186856,
          11572,
          575986,
          33696614,
          20017675,
          16320537
         ]
        }
       ],
       "layout": {
        "coloraxis": {
         "colorbar": {
          "title": {
           "text": "2022 Population"
          }
         },
         "colorscale": [
          [
           0,
           "rgb(255,245,235)"
          ],
          [
           0.125,
           "rgb(254,230,206)"
          ],
          [
           0.25,
           "rgb(253,208,162)"
          ],
          [
           0.375,
           "rgb(253,174,107)"
          ],
          [
           0.5,
           "rgb(253,141,60)"
          ],
          [
           0.625,
           "rgb(241,105,19)"
          ],
          [
           0.75,
           "rgb(217,72,1)"
          ],
          [
           0.875,
           "rgb(166,54,3)"
          ],
          [
           1,
           "rgb(127,39,4)"
          ]
         ]
        },
        "geo": {
         "center": {},
         "domain": {
          "x": [
           0,
           1
          ],
          "y": [
           0,
           1
          ]
         }
        },
        "legend": {
         "tracegroupgap": 0
        },
        "template": {
         "data": {
          "bar": [
           {
            "error_x": {
             "color": "#2a3f5f"
            },
            "error_y": {
             "color": "#2a3f5f"
            },
            "marker": {
             "line": {
              "color": "#E5ECF6",
              "width": 0.5
             },
             "pattern": {
              "fillmode": "overlay",
              "size": 10,
              "solidity": 0.2
             }
            },
            "type": "bar"
           }
          ],
          "barpolar": [
           {
            "marker": {
             "line": {
              "color": "#E5ECF6",
              "width": 0.5
             },
             "pattern": {
              "fillmode": "overlay",
              "size": 10,
              "solidity": 0.2
             }
            },
            "type": "barpolar"
           }
          ],
          "carpet": [
           {
            "aaxis": {
             "endlinecolor": "#2a3f5f",
             "gridcolor": "white",
             "linecolor": "white",
             "minorgridcolor": "white",
             "startlinecolor": "#2a3f5f"
            },
            "baxis": {
             "endlinecolor": "#2a3f5f",
             "gridcolor": "white",
             "linecolor": "white",
             "minorgridcolor": "white",
             "startlinecolor": "#2a3f5f"
            },
            "type": "carpet"
           }
          ],
          "choropleth": [
           {
            "colorbar": {
             "outlinewidth": 0,
             "ticks": ""
            },
            "type": "choropleth"
           }
          ],
          "contour": [
           {
            "colorbar": {
             "outlinewidth": 0,
             "ticks": ""
            },
            "colorscale": [
             [
              0,
              "#0d0887"
             ],
             [
              0.1111111111111111,
              "#46039f"
             ],
             [
              0.2222222222222222,
              "#7201a8"
             ],
             [
              0.3333333333333333,
              "#9c179e"
             ],
             [
              0.4444444444444444,
              "#bd3786"
             ],
             [
              0.5555555555555556,
              "#d8576b"
             ],
             [
              0.6666666666666666,
              "#ed7953"
             ],
             [
              0.7777777777777778,
              "#fb9f3a"
             ],
             [
              0.8888888888888888,
              "#fdca26"
             ],
             [
              1,
              "#f0f921"
             ]
            ],
            "type": "contour"
           }
          ],
          "contourcarpet": [
           {
            "colorbar": {
             "outlinewidth": 0,
             "ticks": ""
            },
            "type": "contourcarpet"
           }
          ],
          "heatmap": [
           {
            "colorbar": {
             "outlinewidth": 0,
             "ticks": ""
            },
            "colorscale": [
             [
              0,
              "#0d0887"
             ],
             [
              0.1111111111111111,
              "#46039f"
             ],
             [
              0.2222222222222222,
              "#7201a8"
             ],
             [
              0.3333333333333333,
              "#9c179e"
             ],
             [
              0.4444444444444444,
              "#bd3786"
             ],
             [
              0.5555555555555556,
              "#d8576b"
             ],
             [
              0.6666666666666666,
              "#ed7953"
             ],
             [
              0.7777777777777778,
              "#fb9f3a"
             ],
             [
              0.8888888888888888,
              "#fdca26"
             ],
             [
              1,
              "#f0f921"
             ]
            ],
            "type": "heatmap"
           }
          ],
          "heatmapgl": [
           {
            "colorbar": {
             "outlinewidth": 0,
             "ticks": ""
            },
            "colorscale": [
             [
              0,
              "#0d0887"
             ],
             [
              0.1111111111111111,
              "#46039f"
             ],
             [
              0.2222222222222222,
              "#7201a8"
             ],
             [
              0.3333333333333333,
              "#9c179e"
             ],
             [
              0.4444444444444444,
              "#bd3786"
             ],
             [
              0.5555555555555556,
              "#d8576b"
             ],
             [
              0.6666666666666666,
              "#ed7953"
             ],
             [
              0.7777777777777778,
              "#fb9f3a"
             ],
             [
              0.8888888888888888,
              "#fdca26"
             ],
             [
              1,
              "#f0f921"
             ]
            ],
            "type": "heatmapgl"
           }
          ],
          "histogram": [
           {
            "marker": {
             "pattern": {
              "fillmode": "overlay",
              "size": 10,
              "solidity": 0.2
             }
            },
            "type": "histogram"
           }
          ],
          "histogram2d": [
           {
            "colorbar": {
             "outlinewidth": 0,
             "ticks": ""
            },
            "colorscale": [
             [
              0,
              "#0d0887"
             ],
             [
              0.1111111111111111,
              "#46039f"
             ],
             [
              0.2222222222222222,
              "#7201a8"
             ],
             [
              0.3333333333333333,
              "#9c179e"
             ],
             [
              0.4444444444444444,
              "#bd3786"
             ],
             [
              0.5555555555555556,
              "#d8576b"
             ],
             [
              0.6666666666666666,
              "#ed7953"
             ],
             [
              0.7777777777777778,
              "#fb9f3a"
             ],
             [
              0.8888888888888888,
              "#fdca26"
             ],
             [
              1,
              "#f0f921"
             ]
            ],
            "type": "histogram2d"
           }
          ],
          "histogram2dcontour": [
           {
            "colorbar": {
             "outlinewidth": 0,
             "ticks": ""
            },
            "colorscale": [
             [
              0,
              "#0d0887"
             ],
             [
              0.1111111111111111,
              "#46039f"
             ],
             [
              0.2222222222222222,
              "#7201a8"
             ],
             [
              0.3333333333333333,
              "#9c179e"
             ],
             [
              0.4444444444444444,
              "#bd3786"
             ],
             [
              0.5555555555555556,
              "#d8576b"
             ],
             [
              0.6666666666666666,
              "#ed7953"
             ],
             [
              0.7777777777777778,
              "#fb9f3a"
             ],
             [
              0.8888888888888888,
              "#fdca26"
             ],
             [
              1,
              "#f0f921"
             ]
            ],
            "type": "histogram2dcontour"
           }
          ],
          "mesh3d": [
           {
            "colorbar": {
             "outlinewidth": 0,
             "ticks": ""
            },
            "type": "mesh3d"
           }
          ],
          "parcoords": [
           {
            "line": {
             "colorbar": {
              "outlinewidth": 0,
              "ticks": ""
             }
            },
            "type": "parcoords"
           }
          ],
          "pie": [
           {
            "automargin": true,
            "type": "pie"
           }
          ],
          "scatter": [
           {
            "fillpattern": {
             "fillmode": "overlay",
             "size": 10,
             "solidity": 0.2
            },
            "type": "scatter"
           }
          ],
          "scatter3d": [
           {
            "line": {
             "colorbar": {
              "outlinewidth": 0,
              "ticks": ""
             }
            },
            "marker": {
             "colorbar": {
              "outlinewidth": 0,
              "ticks": ""
             }
            },
            "type": "scatter3d"
           }
          ],
          "scattercarpet": [
           {
            "marker": {
             "colorbar": {
              "outlinewidth": 0,
              "ticks": ""
             }
            },
            "type": "scattercarpet"
           }
          ],
          "scattergeo": [
           {
            "marker": {
             "colorbar": {
              "outlinewidth": 0,
              "ticks": ""
             }
            },
            "type": "scattergeo"
           }
          ],
          "scattergl": [
           {
            "marker": {
             "colorbar": {
              "outlinewidth": 0,
              "ticks": ""
             }
            },
            "type": "scattergl"
           }
          ],
          "scattermapbox": [
           {
            "marker": {
             "colorbar": {
              "outlinewidth": 0,
              "ticks": ""
             }
            },
            "type": "scattermapbox"
           }
          ],
          "scatterpolar": [
           {
            "marker": {
             "colorbar": {
              "outlinewidth": 0,
              "ticks": ""
             }
            },
            "type": "scatterpolar"
           }
          ],
          "scatterpolargl": [
           {
            "marker": {
             "colorbar": {
              "outlinewidth": 0,
              "ticks": ""
             }
            },
            "type": "scatterpolargl"
           }
          ],
          "scatterternary": [
           {
            "marker": {
             "colorbar": {
              "outlinewidth": 0,
              "ticks": ""
             }
            },
            "type": "scatterternary"
           }
          ],
          "surface": [
           {
            "colorbar": {
             "outlinewidth": 0,
             "ticks": ""
            },
            "colorscale": [
             [
              0,
              "#0d0887"
             ],
             [
              0.1111111111111111,
              "#46039f"
             ],
             [
              0.2222222222222222,
              "#7201a8"
             ],
             [
              0.3333333333333333,
              "#9c179e"
             ],
             [
              0.4444444444444444,
              "#bd3786"
             ],
             [
              0.5555555555555556,
              "#d8576b"
             ],
             [
              0.6666666666666666,
              "#ed7953"
             ],
             [
              0.7777777777777778,
              "#fb9f3a"
             ],
             [
              0.8888888888888888,
              "#fdca26"
             ],
             [
              1,
              "#f0f921"
             ]
            ],
            "type": "surface"
           }
          ],
          "table": [
           {
            "cells": {
             "fill": {
              "color": "#EBF0F8"
             },
             "line": {
              "color": "white"
             }
            },
            "header": {
             "fill": {
              "color": "#C8D4E3"
             },
             "line": {
              "color": "white"
             }
            },
            "type": "table"
           }
          ]
         },
         "layout": {
          "annotationdefaults": {
           "arrowcolor": "#2a3f5f",
           "arrowhead": 0,
           "arrowwidth": 1
          },
          "autotypenumbers": "strict",
          "coloraxis": {
           "colorbar": {
            "outlinewidth": 0,
            "ticks": ""
           }
          },
          "colorscale": {
           "diverging": [
            [
             0,
             "#8e0152"
            ],
            [
             0.1,
             "#c51b7d"
            ],
            [
             0.2,
             "#de77ae"
            ],
            [
             0.3,
             "#f1b6da"
            ],
            [
             0.4,
             "#fde0ef"
            ],
            [
             0.5,
             "#f7f7f7"
            ],
            [
             0.6,
             "#e6f5d0"
            ],
            [
             0.7,
             "#b8e186"
            ],
            [
             0.8,
             "#7fbc41"
            ],
            [
             0.9,
             "#4d9221"
            ],
            [
             1,
             "#276419"
            ]
           ],
           "sequential": [
            [
             0,
             "#0d0887"
            ],
            [
             0.1111111111111111,
             "#46039f"
            ],
            [
             0.2222222222222222,
             "#7201a8"
            ],
            [
             0.3333333333333333,
             "#9c179e"
            ],
            [
             0.4444444444444444,
             "#bd3786"
            ],
            [
             0.5555555555555556,
             "#d8576b"
            ],
            [
             0.6666666666666666,
             "#ed7953"
            ],
            [
             0.7777777777777778,
             "#fb9f3a"
            ],
            [
             0.8888888888888888,
             "#fdca26"
            ],
            [
             1,
             "#f0f921"
            ]
           ],
           "sequentialminus": [
            [
             0,
             "#0d0887"
            ],
            [
             0.1111111111111111,
             "#46039f"
            ],
            [
             0.2222222222222222,
             "#7201a8"
            ],
            [
             0.3333333333333333,
             "#9c179e"
            ],
            [
             0.4444444444444444,
             "#bd3786"
            ],
            [
             0.5555555555555556,
             "#d8576b"
            ],
            [
             0.6666666666666666,
             "#ed7953"
            ],
            [
             0.7777777777777778,
             "#fb9f3a"
            ],
            [
             0.8888888888888888,
             "#fdca26"
            ],
            [
             1,
             "#f0f921"
            ]
           ]
          },
          "colorway": [
           "#636efa",
           "#EF553B",
           "#00cc96",
           "#ab63fa",
           "#FFA15A",
           "#19d3f3",
           "#FF6692",
           "#B6E880",
           "#FF97FF",
           "#FECB52"
          ],
          "font": {
           "color": "#2a3f5f"
          },
          "geo": {
           "bgcolor": "white",
           "lakecolor": "white",
           "landcolor": "#E5ECF6",
           "showlakes": true,
           "showland": true,
           "subunitcolor": "white"
          },
          "hoverlabel": {
           "align": "left"
          },
          "hovermode": "closest",
          "mapbox": {
           "style": "light"
          },
          "paper_bgcolor": "white",
          "plot_bgcolor": "#E5ECF6",
          "polar": {
           "angularaxis": {
            "gridcolor": "white",
            "linecolor": "white",
            "ticks": ""
           },
           "bgcolor": "#E5ECF6",
           "radialaxis": {
            "gridcolor": "white",
            "linecolor": "white",
            "ticks": ""
           }
          },
          "scene": {
           "xaxis": {
            "backgroundcolor": "#E5ECF6",
            "gridcolor": "white",
            "gridwidth": 2,
            "linecolor": "white",
            "showbackground": true,
            "ticks": "",
            "zerolinecolor": "white"
           },
           "yaxis": {
            "backgroundcolor": "#E5ECF6",
            "gridcolor": "white",
            "gridwidth": 2,
            "linecolor": "white",
            "showbackground": true,
            "ticks": "",
            "zerolinecolor": "white"
           },
           "zaxis": {
            "backgroundcolor": "#E5ECF6",
            "gridcolor": "white",
            "gridwidth": 2,
            "linecolor": "white",
            "showbackground": true,
            "ticks": "",
            "zerolinecolor": "white"
           }
          },
          "shapedefaults": {
           "line": {
            "color": "#2a3f5f"
           }
          },
          "ternary": {
           "aaxis": {
            "gridcolor": "white",
            "linecolor": "white",
            "ticks": ""
           },
           "baxis": {
            "gridcolor": "white",
            "linecolor": "white",
            "ticks": ""
           },
           "bgcolor": "#E5ECF6",
           "caxis": {
            "gridcolor": "white",
            "linecolor": "white",
            "ticks": ""
           }
          },
          "title": {
           "x": 0.05
          },
          "xaxis": {
           "automargin": true,
           "gridcolor": "white",
           "linecolor": "white",
           "ticks": "",
           "title": {
            "standoff": 15
           },
           "zerolinecolor": "white",
           "zerolinewidth": 2
          },
          "yaxis": {
           "automargin": true,
           "gridcolor": "white",
           "linecolor": "white",
           "ticks": "",
           "title": {
            "standoff": 15
           },
           "zerolinecolor": "white",
           "zerolinewidth": 2
          }
         }
        },
        "title": {
         "text": "2022 Population Map"
        }
       }
      }
     },
     "metadata": {},
     "output_type": "display_data"
    }
   ],
   "source": [
    "fig = px.choropleth(df,\n",
    "locations='Country/Territory',\n",
    "locationmode='country names',\n",
    "color='2022 Population',\n",
    "hover_name='Country/Territory',\n",
    "title = '2022 Population Map',\n",
    "color_continuous_scale='oranges')\n",
    "fig.show()"
   ]
  },
  {
   "cell_type": "code",
   "execution_count": 11,
   "metadata": {},
   "outputs": [
    {
     "data": {
      "application/vnd.plotly.v1+json": {
       "config": {
        "plotlyServerURL": "https://plot.ly"
       },
       "data": [
        {
         "coloraxis": "coloraxis",
         "geo": "geo",
         "hovertemplate": "<b>%{hovertext}</b><br><br>Country/Territory=%{location}<br>1970 Population=%{z}<extra></extra>",
         "hovertext": [
          "Afghanistan",
          "Albania",
          "Algeria",
          "American Samoa",
          "Andorra",
          "Angola",
          "Anguilla",
          "Antigua and Barbuda",
          "Argentina",
          "Armenia",
          "Aruba",
          "Australia",
          "Austria",
          "Azerbaijan",
          "Bahamas",
          "Bahrain",
          "Bangladesh",
          "Barbados",
          "Belarus",
          "Belgium",
          "Belize",
          "Benin",
          "Bermuda",
          "Bhutan",
          "Bolivia",
          "Bosnia and Herzegovina",
          "Botswana",
          "Brazil",
          "British Virgin Islands",
          "Brunei",
          "Bulgaria",
          "Burkina Faso",
          "Burundi",
          "Cambodia",
          "Cameroon",
          "Canada",
          "Cape Verde",
          "Cayman Islands",
          "Central African Republic",
          "Chad",
          "Chile",
          "China",
          "Colombia",
          "Comoros",
          "Cook Islands",
          "Costa Rica",
          "Croatia",
          "Cuba",
          "Curacao",
          "Cyprus",
          "Czech Republic",
          "Denmark",
          "Djibouti",
          "Dominica",
          "Dominican Republic",
          "DR Congo",
          "Ecuador",
          "Egypt",
          "El Salvador",
          "Equatorial Guinea",
          "Eritrea",
          "Estonia",
          "Eswatini",
          "Ethiopia",
          "Falkland Islands",
          "Faroe Islands",
          "Fiji",
          "Finland",
          "France",
          "French Guiana",
          "French Polynesia",
          "Gabon",
          "Gambia",
          "Georgia",
          "Germany",
          "Ghana",
          "Gibraltar",
          "Greece",
          "Greenland",
          "Grenada",
          "Guadeloupe",
          "Guam",
          "Guatemala",
          "Guernsey",
          "Guinea",
          "Guinea-Bissau",
          "Guyana",
          "Haiti",
          "Honduras",
          "Hong Kong",
          "Hungary",
          "Iceland",
          "India",
          "Indonesia",
          "Iran",
          "Iraq",
          "Ireland",
          "Isle of Man",
          "Israel",
          "Italy",
          "Ivory Coast",
          "Jamaica",
          "Japan",
          "Jersey",
          "Jordan",
          "Kazakhstan",
          "Kenya",
          "Kiribati",
          "Kuwait",
          "Kyrgyzstan",
          "Laos",
          "Latvia",
          "Lebanon",
          "Lesotho",
          "Liberia",
          "Libya",
          "Liechtenstein",
          "Lithuania",
          "Luxembourg",
          "Macau",
          "Madagascar",
          "Malawi",
          "Malaysia",
          "Maldives",
          "Mali",
          "Malta",
          "Marshall Islands",
          "Martinique",
          "Mauritania",
          "Mauritius",
          "Mayotte",
          "Mexico",
          "Micronesia",
          "Moldova",
          "Monaco",
          "Mongolia",
          "Montenegro",
          "Montserrat",
          "Morocco",
          "Mozambique",
          "Myanmar",
          "Namibia",
          "Nauru",
          "Nepal",
          "Netherlands",
          "New Caledonia",
          "New Zealand",
          "Nicaragua",
          "Niger",
          "Nigeria",
          "Niue",
          "North Korea",
          "North Macedonia",
          "Northern Mariana Islands",
          "Norway",
          "Oman",
          "Pakistan",
          "Palau",
          "Palestine",
          "Panama",
          "Papua New Guinea",
          "Paraguay",
          "Peru",
          "Philippines",
          "Poland",
          "Portugal",
          "Puerto Rico",
          "Qatar",
          "Republic of the Congo",
          "Reunion",
          "Romania",
          "Russia",
          "Rwanda",
          "Saint Barthelemy",
          "Saint Kitts and Nevis",
          "Saint Lucia",
          "Saint Martin",
          "Saint Pierre and Miquelon",
          "Saint Vincent and the Grenadines",
          "Samoa",
          "San Marino",
          "Sao Tome and Principe",
          "Saudi Arabia",
          "Senegal",
          "Serbia",
          "Seychelles",
          "Sierra Leone",
          "Singapore",
          "Sint Maarten",
          "Slovakia",
          "Slovenia",
          "Solomon Islands",
          "Somalia",
          "South Africa",
          "South Korea",
          "South Sudan",
          "Spain",
          "Sri Lanka",
          "Sudan",
          "Suriname",
          "Sweden",
          "Switzerland",
          "Syria",
          "Taiwan",
          "Tajikistan",
          "Tanzania",
          "Thailand",
          "Timor-Leste",
          "Togo",
          "Tokelau",
          "Tonga",
          "Trinidad and Tobago",
          "Tunisia",
          "Turkey",
          "Turkmenistan",
          "Turks and Caicos Islands",
          "Tuvalu",
          "Uganda",
          "Ukraine",
          "United Arab Emirates",
          "United Kingdom",
          "United States",
          "United States Virgin Islands",
          "Uruguay",
          "Uzbekistan",
          "Vanuatu",
          "Vatican City",
          "Venezuela",
          "Vietnam",
          "Wallis and Futuna",
          "Western Sahara",
          "Yemen",
          "Zambia",
          "Zimbabwe"
         ],
         "locationmode": "country names",
         "locations": [
          "Afghanistan",
          "Albania",
          "Algeria",
          "American Samoa",
          "Andorra",
          "Angola",
          "Anguilla",
          "Antigua and Barbuda",
          "Argentina",
          "Armenia",
          "Aruba",
          "Australia",
          "Austria",
          "Azerbaijan",
          "Bahamas",
          "Bahrain",
          "Bangladesh",
          "Barbados",
          "Belarus",
          "Belgium",
          "Belize",
          "Benin",
          "Bermuda",
          "Bhutan",
          "Bolivia",
          "Bosnia and Herzegovina",
          "Botswana",
          "Brazil",
          "British Virgin Islands",
          "Brunei",
          "Bulgaria",
          "Burkina Faso",
          "Burundi",
          "Cambodia",
          "Cameroon",
          "Canada",
          "Cape Verde",
          "Cayman Islands",
          "Central African Republic",
          "Chad",
          "Chile",
          "China",
          "Colombia",
          "Comoros",
          "Cook Islands",
          "Costa Rica",
          "Croatia",
          "Cuba",
          "Curacao",
          "Cyprus",
          "Czech Republic",
          "Denmark",
          "Djibouti",
          "Dominica",
          "Dominican Republic",
          "DR Congo",
          "Ecuador",
          "Egypt",
          "El Salvador",
          "Equatorial Guinea",
          "Eritrea",
          "Estonia",
          "Eswatini",
          "Ethiopia",
          "Falkland Islands",
          "Faroe Islands",
          "Fiji",
          "Finland",
          "France",
          "French Guiana",
          "French Polynesia",
          "Gabon",
          "Gambia",
          "Georgia",
          "Germany",
          "Ghana",
          "Gibraltar",
          "Greece",
          "Greenland",
          "Grenada",
          "Guadeloupe",
          "Guam",
          "Guatemala",
          "Guernsey",
          "Guinea",
          "Guinea-Bissau",
          "Guyana",
          "Haiti",
          "Honduras",
          "Hong Kong",
          "Hungary",
          "Iceland",
          "India",
          "Indonesia",
          "Iran",
          "Iraq",
          "Ireland",
          "Isle of Man",
          "Israel",
          "Italy",
          "Ivory Coast",
          "Jamaica",
          "Japan",
          "Jersey",
          "Jordan",
          "Kazakhstan",
          "Kenya",
          "Kiribati",
          "Kuwait",
          "Kyrgyzstan",
          "Laos",
          "Latvia",
          "Lebanon",
          "Lesotho",
          "Liberia",
          "Libya",
          "Liechtenstein",
          "Lithuania",
          "Luxembourg",
          "Macau",
          "Madagascar",
          "Malawi",
          "Malaysia",
          "Maldives",
          "Mali",
          "Malta",
          "Marshall Islands",
          "Martinique",
          "Mauritania",
          "Mauritius",
          "Mayotte",
          "Mexico",
          "Micronesia",
          "Moldova",
          "Monaco",
          "Mongolia",
          "Montenegro",
          "Montserrat",
          "Morocco",
          "Mozambique",
          "Myanmar",
          "Namibia",
          "Nauru",
          "Nepal",
          "Netherlands",
          "New Caledonia",
          "New Zealand",
          "Nicaragua",
          "Niger",
          "Nigeria",
          "Niue",
          "North Korea",
          "North Macedonia",
          "Northern Mariana Islands",
          "Norway",
          "Oman",
          "Pakistan",
          "Palau",
          "Palestine",
          "Panama",
          "Papua New Guinea",
          "Paraguay",
          "Peru",
          "Philippines",
          "Poland",
          "Portugal",
          "Puerto Rico",
          "Qatar",
          "Republic of the Congo",
          "Reunion",
          "Romania",
          "Russia",
          "Rwanda",
          "Saint Barthelemy",
          "Saint Kitts and Nevis",
          "Saint Lucia",
          "Saint Martin",
          "Saint Pierre and Miquelon",
          "Saint Vincent and the Grenadines",
          "Samoa",
          "San Marino",
          "Sao Tome and Principe",
          "Saudi Arabia",
          "Senegal",
          "Serbia",
          "Seychelles",
          "Sierra Leone",
          "Singapore",
          "Sint Maarten",
          "Slovakia",
          "Slovenia",
          "Solomon Islands",
          "Somalia",
          "South Africa",
          "South Korea",
          "South Sudan",
          "Spain",
          "Sri Lanka",
          "Sudan",
          "Suriname",
          "Sweden",
          "Switzerland",
          "Syria",
          "Taiwan",
          "Tajikistan",
          "Tanzania",
          "Thailand",
          "Timor-Leste",
          "Togo",
          "Tokelau",
          "Tonga",
          "Trinidad and Tobago",
          "Tunisia",
          "Turkey",
          "Turkmenistan",
          "Turks and Caicos Islands",
          "Tuvalu",
          "Uganda",
          "Ukraine",
          "United Arab Emirates",
          "United Kingdom",
          "United States",
          "United States Virgin Islands",
          "Uruguay",
          "Uzbekistan",
          "Vanuatu",
          "Vatican City",
          "Venezuela",
          "Vietnam",
          "Wallis and Futuna",
          "Western Sahara",
          "Yemen",
          "Zambia",
          "Zimbabwe"
         ],
         "name": "",
         "type": "choropleth",
         "z": [
          10752971,
          2324731,
          13795915,
          27075,
          19860,
          6029700,
          6283,
          64516,
          23842803,
          2534377,
          59106,
          12595034,
          7465301,
          5425317,
          179129,
          222555,
          67541860,
          241397,
          9170786,
          9629376,
          120905,
          3023443,
          52019,
          298894,
          4585693,
          3815561,
          592244,
          96369875,
          9581,
          133343,
          8582950,
          5611666,
          3497834,
          6708525,
          6452787,
          21434577,
          287262,
          10533,
          2067356,
          3667394,
          9820481,
          822534450,
          20905254,
          242351,
          20470,
          1855697,
          4492638,
          8869636,
          150385,
          640804,
          9795744,
          4922963,
          144379,
          68895,
          4475871,
          20151733,
          6172215,
          34781986,
          3619090,
          316955,
          1272748,
          1361999,
          442865,
          28308246,
          2274,
          38416,
          527634,
          4606621,
          50523586,
          46484,
          117891,
          597192,
          528731,
          4800426,
          78294583,
          8861895,
          26685,
          8544873,
          45434,
          98794,
          318310,
          88300,
          5453208,
          52656,
          4222374,
          591663,
          705261,
          4680812,
          2782753,
          3955072,
          10315366,
          204468,
          557501301,
          115228394,
          28449705,
          9811347,
          2937637,
          55298,
          2907307,
          53324036,
          5477086,
          1859091,
          105416839,
          68347,
          1557374,
          12265305,
          11473087,
          57437,
          802786,
          3016384,
          2675283,
          2397414,
          2381791,
          1023481,
          1463563,
          1909177,
          21089,
          3210147,
          339342,
          247284,
          6639751,
          4625141,
          10306508,
          123243,
          6153587,
          315414,
          23969,
          326428,
          1122198,
          830115,
          35383,
          50289306,
          58989,
          3711140,
          24270,
          1293880,
          530268,
          11402,
          15274351,
          8411676,
          27284112,
          754467,
          6663,
          12501285,
          13037686,
          110982,
          2824061,
          2444767,
          4669708,
          55569264,
          5185,
          14996879,
          1656783,
          10143,
          3875546,
          670693,
          59290872,
          11366,
          1118241,
          1516188,
          2489059,
          2408787,
          13562371,
          37435586,
          32482943,
          8683631,
          2737619,
          118007,
          1396989,
          473925,
          19922618,
          130093010,
          3896367,
          2417,
          44968,
          103090,
          5802,
          5537,
          98459,
          142771,
          18169,
          77583,
          6106191,
          4367744,
          7193533,
          54379,
          2778557,
          2061831,
          6260,
          4522867,
          1741286,
          172833,
          3720977,
          22368306,
          32601143,
          3342410,
          33792617,
          12388769,
          11305206,
          379918,
          8027702,
          6181227,
          6319199,
          14957870,
          2993019,
          13618192,
          35791728,
          554021,
          2197383,
          1714,
          86484,
          988890,
          5047404,
          35540990,
          2201432,
          5665,
          5814,
          10317212,
          47279086,
          298084,
          55650166,
          200328340,
          63446,
          2790265,
          12011361,
          87019,
          752,
          11355475,
          41928849,
          9377,
          76371,
          6843607,
          4281671,
          5202918
         ]
        }
       ],
       "layout": {
        "coloraxis": {
         "colorbar": {
          "title": {
           "text": "1970 Population"
          }
         },
         "colorscale": [
          [
           0,
           "rgb(255,245,235)"
          ],
          [
           0.125,
           "rgb(254,230,206)"
          ],
          [
           0.25,
           "rgb(253,208,162)"
          ],
          [
           0.375,
           "rgb(253,174,107)"
          ],
          [
           0.5,
           "rgb(253,141,60)"
          ],
          [
           0.625,
           "rgb(241,105,19)"
          ],
          [
           0.75,
           "rgb(217,72,1)"
          ],
          [
           0.875,
           "rgb(166,54,3)"
          ],
          [
           1,
           "rgb(127,39,4)"
          ]
         ]
        },
        "geo": {
         "center": {},
         "domain": {
          "x": [
           0,
           1
          ],
          "y": [
           0,
           1
          ]
         }
        },
        "legend": {
         "tracegroupgap": 0
        },
        "template": {
         "data": {
          "bar": [
           {
            "error_x": {
             "color": "#2a3f5f"
            },
            "error_y": {
             "color": "#2a3f5f"
            },
            "marker": {
             "line": {
              "color": "#E5ECF6",
              "width": 0.5
             },
             "pattern": {
              "fillmode": "overlay",
              "size": 10,
              "solidity": 0.2
             }
            },
            "type": "bar"
           }
          ],
          "barpolar": [
           {
            "marker": {
             "line": {
              "color": "#E5ECF6",
              "width": 0.5
             },
             "pattern": {
              "fillmode": "overlay",
              "size": 10,
              "solidity": 0.2
             }
            },
            "type": "barpolar"
           }
          ],
          "carpet": [
           {
            "aaxis": {
             "endlinecolor": "#2a3f5f",
             "gridcolor": "white",
             "linecolor": "white",
             "minorgridcolor": "white",
             "startlinecolor": "#2a3f5f"
            },
            "baxis": {
             "endlinecolor": "#2a3f5f",
             "gridcolor": "white",
             "linecolor": "white",
             "minorgridcolor": "white",
             "startlinecolor": "#2a3f5f"
            },
            "type": "carpet"
           }
          ],
          "choropleth": [
           {
            "colorbar": {
             "outlinewidth": 0,
             "ticks": ""
            },
            "type": "choropleth"
           }
          ],
          "contour": [
           {
            "colorbar": {
             "outlinewidth": 0,
             "ticks": ""
            },
            "colorscale": [
             [
              0,
              "#0d0887"
             ],
             [
              0.1111111111111111,
              "#46039f"
             ],
             [
              0.2222222222222222,
              "#7201a8"
             ],
             [
              0.3333333333333333,
              "#9c179e"
             ],
             [
              0.4444444444444444,
              "#bd3786"
             ],
             [
              0.5555555555555556,
              "#d8576b"
             ],
             [
              0.6666666666666666,
              "#ed7953"
             ],
             [
              0.7777777777777778,
              "#fb9f3a"
             ],
             [
              0.8888888888888888,
              "#fdca26"
             ],
             [
              1,
              "#f0f921"
             ]
            ],
            "type": "contour"
           }
          ],
          "contourcarpet": [
           {
            "colorbar": {
             "outlinewidth": 0,
             "ticks": ""
            },
            "type": "contourcarpet"
           }
          ],
          "heatmap": [
           {
            "colorbar": {
             "outlinewidth": 0,
             "ticks": ""
            },
            "colorscale": [
             [
              0,
              "#0d0887"
             ],
             [
              0.1111111111111111,
              "#46039f"
             ],
             [
              0.2222222222222222,
              "#7201a8"
             ],
             [
              0.3333333333333333,
              "#9c179e"
             ],
             [
              0.4444444444444444,
              "#bd3786"
             ],
             [
              0.5555555555555556,
              "#d8576b"
             ],
             [
              0.6666666666666666,
              "#ed7953"
             ],
             [
              0.7777777777777778,
              "#fb9f3a"
             ],
             [
              0.8888888888888888,
              "#fdca26"
             ],
             [
              1,
              "#f0f921"
             ]
            ],
            "type": "heatmap"
           }
          ],
          "heatmapgl": [
           {
            "colorbar": {
             "outlinewidth": 0,
             "ticks": ""
            },
            "colorscale": [
             [
              0,
              "#0d0887"
             ],
             [
              0.1111111111111111,
              "#46039f"
             ],
             [
              0.2222222222222222,
              "#7201a8"
             ],
             [
              0.3333333333333333,
              "#9c179e"
             ],
             [
              0.4444444444444444,
              "#bd3786"
             ],
             [
              0.5555555555555556,
              "#d8576b"
             ],
             [
              0.6666666666666666,
              "#ed7953"
             ],
             [
              0.7777777777777778,
              "#fb9f3a"
             ],
             [
              0.8888888888888888,
              "#fdca26"
             ],
             [
              1,
              "#f0f921"
             ]
            ],
            "type": "heatmapgl"
           }
          ],
          "histogram": [
           {
            "marker": {
             "pattern": {
              "fillmode": "overlay",
              "size": 10,
              "solidity": 0.2
             }
            },
            "type": "histogram"
           }
          ],
          "histogram2d": [
           {
            "colorbar": {
             "outlinewidth": 0,
             "ticks": ""
            },
            "colorscale": [
             [
              0,
              "#0d0887"
             ],
             [
              0.1111111111111111,
              "#46039f"
             ],
             [
              0.2222222222222222,
              "#7201a8"
             ],
             [
              0.3333333333333333,
              "#9c179e"
             ],
             [
              0.4444444444444444,
              "#bd3786"
             ],
             [
              0.5555555555555556,
              "#d8576b"
             ],
             [
              0.6666666666666666,
              "#ed7953"
             ],
             [
              0.7777777777777778,
              "#fb9f3a"
             ],
             [
              0.8888888888888888,
              "#fdca26"
             ],
             [
              1,
              "#f0f921"
             ]
            ],
            "type": "histogram2d"
           }
          ],
          "histogram2dcontour": [
           {
            "colorbar": {
             "outlinewidth": 0,
             "ticks": ""
            },
            "colorscale": [
             [
              0,
              "#0d0887"
             ],
             [
              0.1111111111111111,
              "#46039f"
             ],
             [
              0.2222222222222222,
              "#7201a8"
             ],
             [
              0.3333333333333333,
              "#9c179e"
             ],
             [
              0.4444444444444444,
              "#bd3786"
             ],
             [
              0.5555555555555556,
              "#d8576b"
             ],
             [
              0.6666666666666666,
              "#ed7953"
             ],
             [
              0.7777777777777778,
              "#fb9f3a"
             ],
             [
              0.8888888888888888,
              "#fdca26"
             ],
             [
              1,
              "#f0f921"
             ]
            ],
            "type": "histogram2dcontour"
           }
          ],
          "mesh3d": [
           {
            "colorbar": {
             "outlinewidth": 0,
             "ticks": ""
            },
            "type": "mesh3d"
           }
          ],
          "parcoords": [
           {
            "line": {
             "colorbar": {
              "outlinewidth": 0,
              "ticks": ""
             }
            },
            "type": "parcoords"
           }
          ],
          "pie": [
           {
            "automargin": true,
            "type": "pie"
           }
          ],
          "scatter": [
           {
            "fillpattern": {
             "fillmode": "overlay",
             "size": 10,
             "solidity": 0.2
            },
            "type": "scatter"
           }
          ],
          "scatter3d": [
           {
            "line": {
             "colorbar": {
              "outlinewidth": 0,
              "ticks": ""
             }
            },
            "marker": {
             "colorbar": {
              "outlinewidth": 0,
              "ticks": ""
             }
            },
            "type": "scatter3d"
           }
          ],
          "scattercarpet": [
           {
            "marker": {
             "colorbar": {
              "outlinewidth": 0,
              "ticks": ""
             }
            },
            "type": "scattercarpet"
           }
          ],
          "scattergeo": [
           {
            "marker": {
             "colorbar": {
              "outlinewidth": 0,
              "ticks": ""
             }
            },
            "type": "scattergeo"
           }
          ],
          "scattergl": [
           {
            "marker": {
             "colorbar": {
              "outlinewidth": 0,
              "ticks": ""
             }
            },
            "type": "scattergl"
           }
          ],
          "scattermapbox": [
           {
            "marker": {
             "colorbar": {
              "outlinewidth": 0,
              "ticks": ""
             }
            },
            "type": "scattermapbox"
           }
          ],
          "scatterpolar": [
           {
            "marker": {
             "colorbar": {
              "outlinewidth": 0,
              "ticks": ""
             }
            },
            "type": "scatterpolar"
           }
          ],
          "scatterpolargl": [
           {
            "marker": {
             "colorbar": {
              "outlinewidth": 0,
              "ticks": ""
             }
            },
            "type": "scatterpolargl"
           }
          ],
          "scatterternary": [
           {
            "marker": {
             "colorbar": {
              "outlinewidth": 0,
              "ticks": ""
             }
            },
            "type": "scatterternary"
           }
          ],
          "surface": [
           {
            "colorbar": {
             "outlinewidth": 0,
             "ticks": ""
            },
            "colorscale": [
             [
              0,
              "#0d0887"
             ],
             [
              0.1111111111111111,
              "#46039f"
             ],
             [
              0.2222222222222222,
              "#7201a8"
             ],
             [
              0.3333333333333333,
              "#9c179e"
             ],
             [
              0.4444444444444444,
              "#bd3786"
             ],
             [
              0.5555555555555556,
              "#d8576b"
             ],
             [
              0.6666666666666666,
              "#ed7953"
             ],
             [
              0.7777777777777778,
              "#fb9f3a"
             ],
             [
              0.8888888888888888,
              "#fdca26"
             ],
             [
              1,
              "#f0f921"
             ]
            ],
            "type": "surface"
           }
          ],
          "table": [
           {
            "cells": {
             "fill": {
              "color": "#EBF0F8"
             },
             "line": {
              "color": "white"
             }
            },
            "header": {
             "fill": {
              "color": "#C8D4E3"
             },
             "line": {
              "color": "white"
             }
            },
            "type": "table"
           }
          ]
         },
         "layout": {
          "annotationdefaults": {
           "arrowcolor": "#2a3f5f",
           "arrowhead": 0,
           "arrowwidth": 1
          },
          "autotypenumbers": "strict",
          "coloraxis": {
           "colorbar": {
            "outlinewidth": 0,
            "ticks": ""
           }
          },
          "colorscale": {
           "diverging": [
            [
             0,
             "#8e0152"
            ],
            [
             0.1,
             "#c51b7d"
            ],
            [
             0.2,
             "#de77ae"
            ],
            [
             0.3,
             "#f1b6da"
            ],
            [
             0.4,
             "#fde0ef"
            ],
            [
             0.5,
             "#f7f7f7"
            ],
            [
             0.6,
             "#e6f5d0"
            ],
            [
             0.7,
             "#b8e186"
            ],
            [
             0.8,
             "#7fbc41"
            ],
            [
             0.9,
             "#4d9221"
            ],
            [
             1,
             "#276419"
            ]
           ],
           "sequential": [
            [
             0,
             "#0d0887"
            ],
            [
             0.1111111111111111,
             "#46039f"
            ],
            [
             0.2222222222222222,
             "#7201a8"
            ],
            [
             0.3333333333333333,
             "#9c179e"
            ],
            [
             0.4444444444444444,
             "#bd3786"
            ],
            [
             0.5555555555555556,
             "#d8576b"
            ],
            [
             0.6666666666666666,
             "#ed7953"
            ],
            [
             0.7777777777777778,
             "#fb9f3a"
            ],
            [
             0.8888888888888888,
             "#fdca26"
            ],
            [
             1,
             "#f0f921"
            ]
           ],
           "sequentialminus": [
            [
             0,
             "#0d0887"
            ],
            [
             0.1111111111111111,
             "#46039f"
            ],
            [
             0.2222222222222222,
             "#7201a8"
            ],
            [
             0.3333333333333333,
             "#9c179e"
            ],
            [
             0.4444444444444444,
             "#bd3786"
            ],
            [
             0.5555555555555556,
             "#d8576b"
            ],
            [
             0.6666666666666666,
             "#ed7953"
            ],
            [
             0.7777777777777778,
             "#fb9f3a"
            ],
            [
             0.8888888888888888,
             "#fdca26"
            ],
            [
             1,
             "#f0f921"
            ]
           ]
          },
          "colorway": [
           "#636efa",
           "#EF553B",
           "#00cc96",
           "#ab63fa",
           "#FFA15A",
           "#19d3f3",
           "#FF6692",
           "#B6E880",
           "#FF97FF",
           "#FECB52"
          ],
          "font": {
           "color": "#2a3f5f"
          },
          "geo": {
           "bgcolor": "white",
           "lakecolor": "white",
           "landcolor": "#E5ECF6",
           "showlakes": true,
           "showland": true,
           "subunitcolor": "white"
          },
          "hoverlabel": {
           "align": "left"
          },
          "hovermode": "closest",
          "mapbox": {
           "style": "light"
          },
          "paper_bgcolor": "white",
          "plot_bgcolor": "#E5ECF6",
          "polar": {
           "angularaxis": {
            "gridcolor": "white",
            "linecolor": "white",
            "ticks": ""
           },
           "bgcolor": "#E5ECF6",
           "radialaxis": {
            "gridcolor": "white",
            "linecolor": "white",
            "ticks": ""
           }
          },
          "scene": {
           "xaxis": {
            "backgroundcolor": "#E5ECF6",
            "gridcolor": "white",
            "gridwidth": 2,
            "linecolor": "white",
            "showbackground": true,
            "ticks": "",
            "zerolinecolor": "white"
           },
           "yaxis": {
            "backgroundcolor": "#E5ECF6",
            "gridcolor": "white",
            "gridwidth": 2,
            "linecolor": "white",
            "showbackground": true,
            "ticks": "",
            "zerolinecolor": "white"
           },
           "zaxis": {
            "backgroundcolor": "#E5ECF6",
            "gridcolor": "white",
            "gridwidth": 2,
            "linecolor": "white",
            "showbackground": true,
            "ticks": "",
            "zerolinecolor": "white"
           }
          },
          "shapedefaults": {
           "line": {
            "color": "#2a3f5f"
           }
          },
          "ternary": {
           "aaxis": {
            "gridcolor": "white",
            "linecolor": "white",
            "ticks": ""
           },
           "baxis": {
            "gridcolor": "white",
            "linecolor": "white",
            "ticks": ""
           },
           "bgcolor": "#E5ECF6",
           "caxis": {
            "gridcolor": "white",
            "linecolor": "white",
            "ticks": ""
           }
          },
          "title": {
           "x": 0.05
          },
          "xaxis": {
           "automargin": true,
           "gridcolor": "white",
           "linecolor": "white",
           "ticks": "",
           "title": {
            "standoff": 15
           },
           "zerolinecolor": "white",
           "zerolinewidth": 2
          },
          "yaxis": {
           "automargin": true,
           "gridcolor": "white",
           "linecolor": "white",
           "ticks": "",
           "title": {
            "standoff": 15
           },
           "zerolinecolor": "white",
           "zerolinewidth": 2
          }
         }
        },
        "title": {
         "text": "1970 Population Map"
        }
       }
      }
     },
     "metadata": {},
     "output_type": "display_data"
    }
   ],
   "source": [
    "fig = px.choropleth(df,\n",
    "locations='Country/Territory',\n",
    "locationmode='country names',\n",
    "color='1970 Population',\n",
    "hover_name='Country/Territory',\n",
    "title = '1970 Population Map',\n",
    "color_continuous_scale='oranges')\n",
    "fig.show()"
   ]
  },
  {
   "cell_type": "markdown",
   "id": "3e69f9f0",
   "metadata": {},
   "source": [
    "### Population Growth by Continent "
   ]
  },
  {
   "cell_type": "code",
   "execution_count": 12,
   "id": "07e25dab",
   "metadata": {},
   "outputs": [
    {
     "data": {
      "text/plain": [
       "Index(['Rank', 'CCA3', 'Country/Territory', 'Capital', 'Continent',\n",
       "       '2022 Population', '2020 Population', '2015 Population',\n",
       "       '2010 Population', '2000 Population', '1990 Population',\n",
       "       '1980 Population', '1970 Population', 'Area (km²)', 'Density (per km²)',\n",
       "       'Growth Rate', 'World Population Percentage'],\n",
       "      dtype='object')"
      ]
     },
     "execution_count": 12,
     "metadata": {},
     "output_type": "execute_result"
    }
   ],
   "source": [
    "df.columns"
   ]
  },
  {
   "cell_type": "code",
   "execution_count": 13,
   "id": "28f7b785",
   "metadata": {},
   "outputs": [
    {
     "data": {
      "text/html": [
       "<div>\n",
       "<style scoped>\n",
       "    .dataframe tbody tr th:only-of-type {\n",
       "        vertical-align: middle;\n",
       "    }\n",
       "\n",
       "    .dataframe tbody tr th {\n",
       "        vertical-align: top;\n",
       "    }\n",
       "\n",
       "    .dataframe thead th {\n",
       "        text-align: right;\n",
       "    }\n",
       "</style>\n",
       "<table border=\"1\" class=\"dataframe\">\n",
       "  <thead>\n",
       "    <tr style=\"text-align: right;\">\n",
       "      <th></th>\n",
       "      <th>1970 Population</th>\n",
       "      <th>1980 Population</th>\n",
       "      <th>1990 Population</th>\n",
       "      <th>2000 Population</th>\n",
       "      <th>2010 Population</th>\n",
       "      <th>2015 Population</th>\n",
       "      <th>2020 Population</th>\n",
       "      <th>2022 Population</th>\n",
       "    </tr>\n",
       "    <tr>\n",
       "      <th>Continent</th>\n",
       "      <th></th>\n",
       "      <th></th>\n",
       "      <th></th>\n",
       "      <th></th>\n",
       "      <th></th>\n",
       "      <th></th>\n",
       "      <th></th>\n",
       "      <th></th>\n",
       "    </tr>\n",
       "  </thead>\n",
       "  <tbody>\n",
       "    <tr>\n",
       "      <th>Asia</th>\n",
       "      <td>2144906290</td>\n",
       "      <td>2635334228</td>\n",
       "      <td>3210563577</td>\n",
       "      <td>3735089604</td>\n",
       "      <td>4220041327</td>\n",
       "      <td>4458250182</td>\n",
       "      <td>4663086535</td>\n",
       "      <td>4721383274</td>\n",
       "    </tr>\n",
       "    <tr>\n",
       "      <th>Africa</th>\n",
       "      <td>365444348</td>\n",
       "      <td>481536377</td>\n",
       "      <td>638150629</td>\n",
       "      <td>818946032</td>\n",
       "      <td>1055228072</td>\n",
       "      <td>1201102442</td>\n",
       "      <td>1360671810</td>\n",
       "      <td>1426730932</td>\n",
       "    </tr>\n",
       "    <tr>\n",
       "      <th>Europe</th>\n",
       "      <td>655923991</td>\n",
       "      <td>692527159</td>\n",
       "      <td>720320797</td>\n",
       "      <td>726093423</td>\n",
       "      <td>735613934</td>\n",
       "      <td>741535608</td>\n",
       "      <td>745792196</td>\n",
       "      <td>743147538</td>\n",
       "    </tr>\n",
       "    <tr>\n",
       "      <th>North America</th>\n",
       "      <td>315434606</td>\n",
       "      <td>368293361</td>\n",
       "      <td>421266425</td>\n",
       "      <td>486069584</td>\n",
       "      <td>542720651</td>\n",
       "      <td>570383850</td>\n",
       "      <td>594236593</td>\n",
       "      <td>600296136</td>\n",
       "    </tr>\n",
       "    <tr>\n",
       "      <th>South America</th>\n",
       "      <td>192947156</td>\n",
       "      <td>241789006</td>\n",
       "      <td>297146415</td>\n",
       "      <td>349634282</td>\n",
       "      <td>393078250</td>\n",
       "      <td>413134396</td>\n",
       "      <td>431530043</td>\n",
       "      <td>436816608</td>\n",
       "    </tr>\n",
       "    <tr>\n",
       "      <th>Oceania</th>\n",
       "      <td>19480270</td>\n",
       "      <td>22920240</td>\n",
       "      <td>26743822</td>\n",
       "      <td>31222778</td>\n",
       "      <td>37102764</td>\n",
       "      <td>40403283</td>\n",
       "      <td>43933426</td>\n",
       "      <td>45038554</td>\n",
       "    </tr>\n",
       "    <tr>\n",
       "      <th>Total</th>\n",
       "      <td>3694136661</td>\n",
       "      <td>4442400371</td>\n",
       "      <td>5314191665</td>\n",
       "      <td>6147055703</td>\n",
       "      <td>6983784998</td>\n",
       "      <td>7424809761</td>\n",
       "      <td>7839250603</td>\n",
       "      <td>7973413042</td>\n",
       "    </tr>\n",
       "  </tbody>\n",
       "</table>\n",
       "</div>"
      ],
      "text/plain": [
       "               1970 Population  1980 Population  1990 Population  \\\n",
       "Continent                                                          \n",
       "Asia                2144906290       2635334228       3210563577   \n",
       "Africa               365444348        481536377        638150629   \n",
       "Europe               655923991        692527159        720320797   \n",
       "North America        315434606        368293361        421266425   \n",
       "South America        192947156        241789006        297146415   \n",
       "Oceania               19480270         22920240         26743822   \n",
       "Total               3694136661       4442400371       5314191665   \n",
       "\n",
       "               2000 Population  2010 Population  2015 Population  \\\n",
       "Continent                                                          \n",
       "Asia                3735089604       4220041327       4458250182   \n",
       "Africa               818946032       1055228072       1201102442   \n",
       "Europe               726093423        735613934        741535608   \n",
       "North America        486069584        542720651        570383850   \n",
       "South America        349634282        393078250        413134396   \n",
       "Oceania               31222778         37102764         40403283   \n",
       "Total               6147055703       6983784998       7424809761   \n",
       "\n",
       "               2020 Population  2022 Population  \n",
       "Continent                                        \n",
       "Asia                4663086535       4721383274  \n",
       "Africa              1360671810       1426730932  \n",
       "Europe               745792196        743147538  \n",
       "North America        594236593        600296136  \n",
       "South America        431530043        436816608  \n",
       "Oceania               43933426         45038554  \n",
       "Total               7839250603       7973413042  "
      ]
     },
     "execution_count": 13,
     "metadata": {},
     "output_type": "execute_result"
    }
   ],
   "source": [
    "df_continents = df.groupby('Continent')[['1970 Population', '1980 Population', '1990 Population',\n",
    "       '2000 Population', '2010 Population', '2015 Population',\n",
    "       '2020 Population', '2022 Population']].sum().sort_values(by = '2022 Population', ascending = False)\n",
    "\n",
    "df_continents.loc['Total'] = df_continents.sum()\n",
    "\n",
    "df_continents"
   ]
  },
  {
   "cell_type": "markdown",
   "id": "b9212bba",
   "metadata": {},
   "source": [
    "### repalce the columns with rows for better graph Visualizations"
   ]
  },
  {
   "cell_type": "code",
   "execution_count": 14,
   "metadata": {},
   "outputs": [
    {
     "data": {
      "image/png": "[encoded data removed]",
      "text/plain": [
       "<Figure size 640x480 with 1 Axes>"
      ]
     },
     "metadata": {},
     "output_type": "display_data"
    }
   ],
   "source": [
    "df_continents.plot();\n"
   ]
  },
  {
   "cell_type": "code",
   "execution_count": 15,
   "id": "d3e4c081",
   "metadata": {},
   "outputs": [
    {
     "data": {
      "text/html": [
       "<div>\n",
       "<style scoped>\n",
       "    .dataframe tbody tr th:only-of-type {\n",
       "        vertical-align: middle;\n",
       "    }\n",
       "\n",
       "    .dataframe tbody tr th {\n",
       "        vertical-align: top;\n",
       "    }\n",
       "\n",
       "    .dataframe thead th {\n",
       "        text-align: right;\n",
       "    }\n",
       "</style>\n",
       "<table border=\"1\" class=\"dataframe\">\n",
       "  <thead>\n",
       "    <tr style=\"text-align: right;\">\n",
       "      <th>Continent</th>\n",
       "      <th>Asia</th>\n",
       "      <th>Africa</th>\n",
       "      <th>Europe</th>\n",
       "      <th>North America</th>\n",
       "      <th>South America</th>\n",
       "      <th>Oceania</th>\n",
       "      <th>Total</th>\n",
       "    </tr>\n",
       "  </thead>\n",
       "  <tbody>\n",
       "    <tr>\n",
       "      <th>1970 Population</th>\n",
       "      <td>2144906290</td>\n",
       "      <td>365444348</td>\n",
       "      <td>655923991</td>\n",
       "      <td>315434606</td>\n",
       "      <td>192947156</td>\n",
       "      <td>19480270</td>\n",
       "      <td>3694136661</td>\n",
       "    </tr>\n",
       "    <tr>\n",
       "      <th>1980 Population</th>\n",
       "      <td>2635334228</td>\n",
       "      <td>481536377</td>\n",
       "      <td>692527159</td>\n",
       "      <td>368293361</td>\n",
       "      <td>241789006</td>\n",
       "      <td>22920240</td>\n",
       "      <td>4442400371</td>\n",
       "    </tr>\n",
       "    <tr>\n",
       "      <th>1990 Population</th>\n",
       "      <td>3210563577</td>\n",
       "      <td>638150629</td>\n",
       "      <td>720320797</td>\n",
       "      <td>421266425</td>\n",
       "      <td>297146415</td>\n",
       "      <td>26743822</td>\n",
       "      <td>5314191665</td>\n",
       "    </tr>\n",
       "    <tr>\n",
       "      <th>2000 Population</th>\n",
       "      <td>3735089604</td>\n",
       "      <td>818946032</td>\n",
       "      <td>726093423</td>\n",
       "      <td>486069584</td>\n",
       "      <td>349634282</td>\n",
       "      <td>31222778</td>\n",
       "      <td>6147055703</td>\n",
       "    </tr>\n",
       "    <tr>\n",
       "      <th>2010 Population</th>\n",
       "      <td>4220041327</td>\n",
       "      <td>1055228072</td>\n",
       "      <td>735613934</td>\n",
       "      <td>542720651</td>\n",
       "      <td>393078250</td>\n",
       "      <td>37102764</td>\n",
       "      <td>6983784998</td>\n",
       "    </tr>\n",
       "    <tr>\n",
       "      <th>2015 Population</th>\n",
       "      <td>4458250182</td>\n",
       "      <td>1201102442</td>\n",
       "      <td>741535608</td>\n",
       "      <td>570383850</td>\n",
       "      <td>413134396</td>\n",
       "      <td>40403283</td>\n",
       "      <td>7424809761</td>\n",
       "    </tr>\n",
       "    <tr>\n",
       "      <th>2020 Population</th>\n",
       "      <td>4663086535</td>\n",
       "      <td>1360671810</td>\n",
       "      <td>745792196</td>\n",
       "      <td>594236593</td>\n",
       "      <td>431530043</td>\n",
       "      <td>43933426</td>\n",
       "      <td>7839250603</td>\n",
       "    </tr>\n",
       "    <tr>\n",
       "      <th>2022 Population</th>\n",
       "      <td>4721383274</td>\n",
       "      <td>1426730932</td>\n",
       "      <td>743147538</td>\n",
       "      <td>600296136</td>\n",
       "      <td>436816608</td>\n",
       "      <td>45038554</td>\n",
       "      <td>7973413042</td>\n",
       "    </tr>\n",
       "  </tbody>\n",
       "</table>\n",
       "</div>"
      ],
      "text/plain": [
       "Continent              Asia      Africa     Europe  North America  \\\n",
       "1970 Population  2144906290   365444348  655923991      315434606   \n",
       "1980 Population  2635334228   481536377  692527159      368293361   \n",
       "1990 Population  3210563577   638150629  720320797      421266425   \n",
       "2000 Population  3735089604   818946032  726093423      486069584   \n",
       "2010 Population  4220041327  1055228072  735613934      542720651   \n",
       "2015 Population  4458250182  1201102442  741535608      570383850   \n",
       "2020 Population  4663086535  1360671810  745792196      594236593   \n",
       "2022 Population  4721383274  1426730932  743147538      600296136   \n",
       "\n",
       "Continent        South America   Oceania       Total  \n",
       "1970 Population      192947156  19480270  3694136661  \n",
       "1980 Population      241789006  22920240  4442400371  \n",
       "1990 Population      297146415  26743822  5314191665  \n",
       "2000 Population      349634282  31222778  6147055703  \n",
       "2010 Population      393078250  37102764  6983784998  \n",
       "2015 Population      413134396  40403283  7424809761  \n",
       "2020 Population      431530043  43933426  7839250603  \n",
       "2022 Population      436816608  45038554  7973413042  "
      ]
     },
     "execution_count": 15,
     "metadata": {},
     "output_type": "execute_result"
    }
   ],
   "source": [
    "df_continents = df_continents.transpose()\n",
    "df_continents"
   ]
  },
  {
   "cell_type": "code",
   "execution_count": 16,
   "id": "955c74e7",
   "metadata": {},
   "outputs": [
    {
     "data": {
      "image/png": "[encoded data removed]",
      "text/plain": [
       "<Figure size 640x480 with 1 Axes>"
      ]
     },
     "metadata": {},
     "output_type": "display_data"
    }
   ],
   "source": [
    "ax = df_continents.plot()\n",
    "\n",
    "# Adding title, x-axis label, and y-axis label\n",
    "ax.set_title('Mean Population Growth')\n",
    "ax.set_xlabel('')\n",
    "ax.set_xticklabels(ax.get_xticklabels(), rotation=45, horizontalalignment='right')\n",
    "ax.set_ylabel('Population (billions)')\n",
    "\n",
    "ax.legend(loc='center left', bbox_to_anchor=(1.0, 0.5))\n",
    "\n",
    "plt.show()"
   ]
  },
  {
   "cell_type": "markdown",
   "id": "58b7cd19",
   "metadata": {},
   "source": [
    "#### Asia has seen an extraordinary average growth in the past 50 years, whereas Oceania has had an average population growth of close to 0."
   ]
  },
  {
   "cell_type": "markdown",
   "id": "99b889d8",
   "metadata": {},
   "source": [
    "## Boxplot"
   ]
  },
  {
   "cell_type": "code",
   "execution_count": 17,
   "id": "633d9aaa",
   "metadata": {},
   "outputs": [
    {
     "name": "stderr",
     "output_type": "stream",
     "text": [
      "C:\\Users\\enaba\\AppData\\Local\\Temp\\ipykernel_9296\\1059115734.py:5: UserWarning:\n",
      "\n",
      "set_ticklabels() should only be used with a fixed number of ticks, i.e. after set_ticks() or using a FixedLocator.\n",
      "\n"
     ]
    },
    {
     "data": {
      "image/png": "[encoded data removed]",
      "text/plain": [
       "<Figure size 640x480 with 1 Axes>"
      ]
     },
     "metadata": {},
     "output_type": "display_data"
    }
   ],
   "source": [
    "g = sns.boxplot(data=df_continents,\n",
    "showfliers=False\n",
    ");\n",
    "g.set_title('Boxplot')\n",
    "g.set_xticklabels(ax.get_xticklabels(), rotation=45, horizontalalignment='right');"
   ]
  },
  {
   "cell_type": "markdown",
   "id": "7e0187f8",
   "metadata": {},
   "source": [
    "#### The boxplot illustrates the distribution of data in the dataset. It is shown that in 2022 population, there are the most outlier in the data, which is shown by the length of the upper tail. "
   ]
  },
  {
   "cell_type": "markdown",
   "id": "e5a8ac4c",
   "metadata": {},
   "source": [
    "## Questions "
   ]
  },
  {
   "cell_type": "markdown",
   "id": "b4a9d819",
   "metadata": {},
   "source": [
    "### Question 1) What are the most/least populated countries in 2022?"
   ]
  },
  {
   "cell_type": "code",
   "execution_count": 18,
   "id": "17063e6e",
   "metadata": {},
   "outputs": [
    {
     "data": {
      "text/html": [
       "<div>\n",
       "<style scoped>\n",
       "    .dataframe tbody tr th:only-of-type {\n",
       "        vertical-align: middle;\n",
       "    }\n",
       "\n",
       "    .dataframe tbody tr th {\n",
       "        vertical-align: top;\n",
       "    }\n",
       "\n",
       "    .dataframe thead th {\n",
       "        text-align: right;\n",
       "    }\n",
       "</style>\n",
       "<table border=\"1\" class=\"dataframe\">\n",
       "  <thead>\n",
       "    <tr style=\"text-align: right;\">\n",
       "      <th></th>\n",
       "      <th>Rank</th>\n",
       "      <th>CCA3</th>\n",
       "      <th>Country/Territory</th>\n",
       "      <th>Capital</th>\n",
       "      <th>Continent</th>\n",
       "      <th>2022 Population</th>\n",
       "      <th>2020 Population</th>\n",
       "      <th>2015 Population</th>\n",
       "      <th>2010 Population</th>\n",
       "      <th>2000 Population</th>\n",
       "      <th>1990 Population</th>\n",
       "      <th>1980 Population</th>\n",
       "      <th>1970 Population</th>\n",
       "      <th>Area (km²)</th>\n",
       "      <th>Density (per km²)</th>\n",
       "      <th>Growth Rate</th>\n",
       "      <th>World Population Percentage</th>\n",
       "    </tr>\n",
       "  </thead>\n",
       "  <tbody>\n",
       "    <tr>\n",
       "      <th>41</th>\n",
       "      <td>1</td>\n",
       "      <td>CHN</td>\n",
       "      <td>China</td>\n",
       "      <td>Beijing</td>\n",
       "      <td>Asia</td>\n",
       "      <td>1425887337</td>\n",
       "      <td>1424929781</td>\n",
       "      <td>1393715448</td>\n",
       "      <td>1348191368</td>\n",
       "      <td>1264099069</td>\n",
       "      <td>1153704252</td>\n",
       "      <td>982372466</td>\n",
       "      <td>822534450</td>\n",
       "      <td>9706961</td>\n",
       "      <td>146.89</td>\n",
       "      <td>1.00</td>\n",
       "      <td>17.88</td>\n",
       "    </tr>\n",
       "    <tr>\n",
       "      <th>92</th>\n",
       "      <td>2</td>\n",
       "      <td>IND</td>\n",
       "      <td>India</td>\n",
       "      <td>New Delhi</td>\n",
       "      <td>Asia</td>\n",
       "      <td>1417173173</td>\n",
       "      <td>1396387127</td>\n",
       "      <td>1322866505</td>\n",
       "      <td>1240613620</td>\n",
       "      <td>1059633675</td>\n",
       "      <td>870452165</td>\n",
       "      <td>696828385</td>\n",
       "      <td>557501301</td>\n",
       "      <td>3287590</td>\n",
       "      <td>431.07</td>\n",
       "      <td>1.01</td>\n",
       "      <td>17.77</td>\n",
       "    </tr>\n",
       "    <tr>\n",
       "      <th>221</th>\n",
       "      <td>3</td>\n",
       "      <td>USA</td>\n",
       "      <td>United States</td>\n",
       "      <td>Washington, D.C.</td>\n",
       "      <td>North America</td>\n",
       "      <td>338289857</td>\n",
       "      <td>335942003</td>\n",
       "      <td>324607776</td>\n",
       "      <td>311182845</td>\n",
       "      <td>282398554</td>\n",
       "      <td>248083732</td>\n",
       "      <td>223140018</td>\n",
       "      <td>200328340</td>\n",
       "      <td>9372610</td>\n",
       "      <td>36.09</td>\n",
       "      <td>1.00</td>\n",
       "      <td>4.24</td>\n",
       "    </tr>\n",
       "    <tr>\n",
       "      <th>93</th>\n",
       "      <td>4</td>\n",
       "      <td>IDN</td>\n",
       "      <td>Indonesia</td>\n",
       "      <td>Jakarta</td>\n",
       "      <td>Asia</td>\n",
       "      <td>275501339</td>\n",
       "      <td>271857970</td>\n",
       "      <td>259091970</td>\n",
       "      <td>244016173</td>\n",
       "      <td>214072421</td>\n",
       "      <td>182159874</td>\n",
       "      <td>148177096</td>\n",
       "      <td>115228394</td>\n",
       "      <td>1904569</td>\n",
       "      <td>144.65</td>\n",
       "      <td>1.01</td>\n",
       "      <td>3.45</td>\n",
       "    </tr>\n",
       "    <tr>\n",
       "      <th>156</th>\n",
       "      <td>5</td>\n",
       "      <td>PAK</td>\n",
       "      <td>Pakistan</td>\n",
       "      <td>Islamabad</td>\n",
       "      <td>Asia</td>\n",
       "      <td>235824862</td>\n",
       "      <td>227196741</td>\n",
       "      <td>210969298</td>\n",
       "      <td>194454498</td>\n",
       "      <td>154369924</td>\n",
       "      <td>115414069</td>\n",
       "      <td>80624057</td>\n",
       "      <td>59290872</td>\n",
       "      <td>881912</td>\n",
       "      <td>267.40</td>\n",
       "      <td>1.02</td>\n",
       "      <td>2.96</td>\n",
       "    </tr>\n",
       "    <tr>\n",
       "      <th>...</th>\n",
       "      <td>...</td>\n",
       "      <td>...</td>\n",
       "      <td>...</td>\n",
       "      <td>...</td>\n",
       "      <td>...</td>\n",
       "      <td>...</td>\n",
       "      <td>...</td>\n",
       "      <td>...</td>\n",
       "      <td>...</td>\n",
       "      <td>...</td>\n",
       "      <td>...</td>\n",
       "      <td>...</td>\n",
       "      <td>...</td>\n",
       "      <td>...</td>\n",
       "      <td>...</td>\n",
       "      <td>...</td>\n",
       "      <td>...</td>\n",
       "    </tr>\n",
       "    <tr>\n",
       "      <th>137</th>\n",
       "      <td>230</td>\n",
       "      <td>MSR</td>\n",
       "      <td>Montserrat</td>\n",
       "      <td>Brades</td>\n",
       "      <td>North America</td>\n",
       "      <td>4390</td>\n",
       "      <td>4500</td>\n",
       "      <td>5059</td>\n",
       "      <td>4938</td>\n",
       "      <td>5138</td>\n",
       "      <td>10805</td>\n",
       "      <td>11452</td>\n",
       "      <td>11402</td>\n",
       "      <td>102</td>\n",
       "      <td>43.04</td>\n",
       "      <td>0.99</td>\n",
       "      <td>0.00</td>\n",
       "    </tr>\n",
       "    <tr>\n",
       "      <th>64</th>\n",
       "      <td>231</td>\n",
       "      <td>FLK</td>\n",
       "      <td>Falkland Islands</td>\n",
       "      <td>Stanley</td>\n",
       "      <td>South America</td>\n",
       "      <td>3780</td>\n",
       "      <td>3747</td>\n",
       "      <td>3408</td>\n",
       "      <td>3187</td>\n",
       "      <td>3080</td>\n",
       "      <td>2332</td>\n",
       "      <td>2240</td>\n",
       "      <td>2274</td>\n",
       "      <td>12173</td>\n",
       "      <td>0.31</td>\n",
       "      <td>1.00</td>\n",
       "      <td>0.00</td>\n",
       "    </tr>\n",
       "    <tr>\n",
       "      <th>150</th>\n",
       "      <td>232</td>\n",
       "      <td>NIU</td>\n",
       "      <td>Niue</td>\n",
       "      <td>Alofi</td>\n",
       "      <td>Oceania</td>\n",
       "      <td>1934</td>\n",
       "      <td>1942</td>\n",
       "      <td>1847</td>\n",
       "      <td>1812</td>\n",
       "      <td>2074</td>\n",
       "      <td>2533</td>\n",
       "      <td>3637</td>\n",
       "      <td>5185</td>\n",
       "      <td>260</td>\n",
       "      <td>7.44</td>\n",
       "      <td>1.00</td>\n",
       "      <td>0.00</td>\n",
       "    </tr>\n",
       "    <tr>\n",
       "      <th>209</th>\n",
       "      <td>233</td>\n",
       "      <td>TKL</td>\n",
       "      <td>Tokelau</td>\n",
       "      <td>Nukunonu</td>\n",
       "      <td>Oceania</td>\n",
       "      <td>1871</td>\n",
       "      <td>1827</td>\n",
       "      <td>1454</td>\n",
       "      <td>1367</td>\n",
       "      <td>1666</td>\n",
       "      <td>1669</td>\n",
       "      <td>1647</td>\n",
       "      <td>1714</td>\n",
       "      <td>12</td>\n",
       "      <td>155.92</td>\n",
       "      <td>1.01</td>\n",
       "      <td>0.00</td>\n",
       "    </tr>\n",
       "    <tr>\n",
       "      <th>226</th>\n",
       "      <td>234</td>\n",
       "      <td>VAT</td>\n",
       "      <td>Vatican City</td>\n",
       "      <td>Vatican City</td>\n",
       "      <td>Europe</td>\n",
       "      <td>510</td>\n",
       "      <td>520</td>\n",
       "      <td>564</td>\n",
       "      <td>596</td>\n",
       "      <td>651</td>\n",
       "      <td>700</td>\n",
       "      <td>733</td>\n",
       "      <td>752</td>\n",
       "      <td>1</td>\n",
       "      <td>510.00</td>\n",
       "      <td>1.00</td>\n",
       "      <td>0.00</td>\n",
       "    </tr>\n",
       "  </tbody>\n",
       "</table>\n",
       "<p>234 rows × 17 columns</p>\n",
       "</div>"
      ],
      "text/plain": [
       "     Rank CCA3 Country/Territory           Capital      Continent  \\\n",
       "41      1  CHN             China           Beijing           Asia   \n",
       "92      2  IND             India         New Delhi           Asia   \n",
       "221     3  USA     United States  Washington, D.C.  North America   \n",
       "93      4  IDN         Indonesia           Jakarta           Asia   \n",
       "156     5  PAK          Pakistan         Islamabad           Asia   \n",
       "..    ...  ...               ...               ...            ...   \n",
       "137   230  MSR        Montserrat            Brades  North America   \n",
       "64    231  FLK  Falkland Islands           Stanley  South America   \n",
       "150   232  NIU              Niue             Alofi        Oceania   \n",
       "209   233  TKL           Tokelau          Nukunonu        Oceania   \n",
       "226   234  VAT      Vatican City      Vatican City         Europe   \n",
       "\n",
       "     2022 Population  2020 Population  2015 Population  2010 Population  \\\n",
       "41        1425887337       1424929781       1393715448       1348191368   \n",
       "92        1417173173       1396387127       1322866505       1240613620   \n",
       "221        338289857        335942003        324607776        311182845   \n",
       "93         275501339        271857970        259091970        244016173   \n",
       "156        235824862        227196741        210969298        194454498   \n",
       "..               ...              ...              ...              ...   \n",
       "137             4390             4500             5059             4938   \n",
       "64              3780             3747             3408             3187   \n",
       "150             1934             1942             1847             1812   \n",
       "209             1871             1827             1454             1367   \n",
       "226              510              520              564              596   \n",
       "\n",
       "     2000 Population  1990 Population  1980 Population  1970 Population  \\\n",
       "41        1264099069       1153704252        982372466        822534450   \n",
       "92        1059633675        870452165        696828385        557501301   \n",
       "221        282398554        248083732        223140018        200328340   \n",
       "93         214072421        182159874        148177096        115228394   \n",
       "156        154369924        115414069         80624057         59290872   \n",
       "..               ...              ...              ...              ...   \n",
       "137             5138            10805            11452            11402   \n",
       "64              3080             2332             2240             2274   \n",
       "150             2074             2533             3637             5185   \n",
       "209             1666             1669             1647             1714   \n",
       "226              651              700              733              752   \n",
       "\n",
       "     Area (km²)  Density (per km²)  Growth Rate  World Population Percentage  \n",
       "41      9706961             146.89         1.00                        17.88  \n",
       "92      3287590             431.07         1.01                        17.77  \n",
       "221     9372610              36.09         1.00                         4.24  \n",
       "93      1904569             144.65         1.01                         3.45  \n",
       "156      881912             267.40         1.02                         2.96  \n",
       "..          ...                ...          ...                          ...  \n",
       "137         102              43.04         0.99                         0.00  \n",
       "64        12173               0.31         1.00                         0.00  \n",
       "150         260               7.44         1.00                         0.00  \n",
       "209          12             155.92         1.01                         0.00  \n",
       "226           1             510.00         1.00                         0.00  \n",
       "\n",
       "[234 rows x 17 columns]"
      ]
     },
     "execution_count": 18,
     "metadata": {},
     "output_type": "execute_result"
    }
   ],
   "source": [
    "df.sort_values(by='2022 Population', ascending = False)"
   ]
  },
  {
   "cell_type": "markdown",
   "id": "06ab355c",
   "metadata": {},
   "source": [
    "#### The most populated countries are China, India and The United Staes. \n",
    "#### The least populated countries are Vatican City, Tokelau and Niue."
   ]
  },
  {
   "cell_type": "markdown",
   "id": "ef4a42ab",
   "metadata": {},
   "source": [
    "### Question 2) What is the change in the global population distribution across continents from 1970 to 2022?"
   ]
  },
  {
   "cell_type": "code",
   "execution_count": 8,
   "id": "16d6f7ce",
   "metadata": {},
   "outputs": [
    {
     "data": {
      "text/html": [
       "<div>\n",
       "<style scoped>\n",
       "    .dataframe tbody tr th:only-of-type {\n",
       "        vertical-align: middle;\n",
       "    }\n",
       "\n",
       "    .dataframe tbody tr th {\n",
       "        vertical-align: top;\n",
       "    }\n",
       "\n",
       "    .dataframe thead th {\n",
       "        text-align: right;\n",
       "    }\n",
       "</style>\n",
       "<table border=\"1\" class=\"dataframe\">\n",
       "  <thead>\n",
       "    <tr style=\"text-align: right;\">\n",
       "      <th></th>\n",
       "      <th>2022 Population</th>\n",
       "      <th>1970 Population</th>\n",
       "      <th>Population Change</th>\n",
       "    </tr>\n",
       "    <tr>\n",
       "      <th>Continent</th>\n",
       "      <th></th>\n",
       "      <th></th>\n",
       "      <th></th>\n",
       "    </tr>\n",
       "  </thead>\n",
       "  <tbody>\n",
       "    <tr>\n",
       "      <th>Asia</th>\n",
       "      <td>4721383274</td>\n",
       "      <td>2144906290</td>\n",
       "      <td>2576476984</td>\n",
       "    </tr>\n",
       "    <tr>\n",
       "      <th>Africa</th>\n",
       "      <td>1426730932</td>\n",
       "      <td>365444348</td>\n",
       "      <td>1061286584</td>\n",
       "    </tr>\n",
       "    <tr>\n",
       "      <th>North America</th>\n",
       "      <td>600296136</td>\n",
       "      <td>315434606</td>\n",
       "      <td>284861530</td>\n",
       "    </tr>\n",
       "    <tr>\n",
       "      <th>South America</th>\n",
       "      <td>436816608</td>\n",
       "      <td>192947156</td>\n",
       "      <td>243869452</td>\n",
       "    </tr>\n",
       "    <tr>\n",
       "      <th>Europe</th>\n",
       "      <td>743147538</td>\n",
       "      <td>655923991</td>\n",
       "      <td>87223547</td>\n",
       "    </tr>\n",
       "    <tr>\n",
       "      <th>Oceania</th>\n",
       "      <td>45038554</td>\n",
       "      <td>19480270</td>\n",
       "      <td>25558284</td>\n",
       "    </tr>\n",
       "  </tbody>\n",
       "</table>\n",
       "</div>"
      ],
      "text/plain": [
       "               2022 Population  1970 Population  Population Change\n",
       "Continent                                                         \n",
       "Asia                4721383274       2144906290         2576476984\n",
       "Africa              1426730932        365444348         1061286584\n",
       "North America        600296136        315434606          284861530\n",
       "South America        436816608        192947156          243869452\n",
       "Europe               743147538        655923991           87223547\n",
       "Oceania               45038554         19480270           25558284"
      ]
     },
     "execution_count": 8,
     "metadata": {},
     "output_type": "execute_result"
    }
   ],
   "source": [
    "# Group data by continent and sum the population for each year\n",
    "continent_population = df.groupby('Continent')[['2022 Population', '1970 Population']].sum()\n",
    "\n",
    "# Calculate the change in population distribution\n",
    "continent_population['Population Change'] = continent_population['2022 Population'] - continent_population['1970 Population']\n",
    "\n",
    "# Sort continents by population change\n",
    "continent_population = continent_population.sort_values(by='Population Change', ascending=False)\n",
    "\n",
    "continent_population"
   ]
  },
  {
   "cell_type": "code",
   "execution_count": 23,
   "id": "2cc4a87d",
   "metadata": {},
   "outputs": [
    {
     "name": "stderr",
     "output_type": "stream",
     "text": [
      "C:\\Users\\enaba\\AppData\\Local\\Temp\\ipykernel_12456\\1128305291.py:2: FutureWarning: \n",
      "\n",
      "Passing `palette` without assigning `hue` is deprecated and will be removed in v0.14.0. Assign the `x` variable to `hue` and set `legend=False` for the same effect.\n",
      "\n",
      "  p = sns.barplot(data=continent_population.reset_index(),x = 'Continent', y = 'Population Change', palette=\"viridis\")\n"
     ]
    },
    {
     "data": {
      "image/png": "[encoded data removed]",
      "text/plain": [
       "<Figure size 2000x1000 with 1 Axes>"
      ]
     },
     "metadata": {},
     "output_type": "display_data"
    }
   ],
   "source": [
    "plt.figure(figsize = (20, 10))\n",
    "p = sns.barplot(data=continent_population.reset_index(),x = 'Continent', y = 'Population Change', palette=\"viridis\")\n",
    "\n",
    "\n",
    "for b in p.patches:\n",
    "    p.annotate(str(round(b.get_height() / 1e6, 1)) + 'M',\n",
    "    (b.get_x() + b.get_width() / 2., b.get_height() + 1.2e6),\n",
    "    ha='center', va='bottom',\n",
    "    xytext=(0, 12),  # Adjusted to move the labels above the bars\n",
    "    textcoords='offset points')\n",
    "\n",
    "plt.xlabel(\"Continents\")\n",
    "plt.ylabel(\"Average population change\")\n",
    "plt.title(\"Population Change by Continent (1970 to 2022)\")\n",
    "plt.show()\n"
   ]
  },
  {
   "cell_type": "markdown",
   "id": "0865fca8",
   "metadata": {},
   "source": [
    "### Question 3) Which countries that have experienced the most significant population growth and decline from 2015 to 2022?"
   ]
  },
  {
   "cell_type": "code",
   "execution_count": 21,
   "id": "d0ccad38",
   "metadata": {},
   "outputs": [
    {
     "name": "stdout",
     "output_type": "stream",
     "text": [
      "Countries with the most population growth from 2015 to 2022:\n",
      "\n",
      "    Country/Territory  Population Change\n",
      "92              India           94306668\n",
      "149           Nigeria           34545427\n",
      "41              China           32171889\n",
      "156          Pakistan           24855564\n",
      "63           Ethiopia           20908029\n",
      "55           DR Congo           20353308\n",
      "93          Indonesia           16409369\n",
      "221     United States           13682081\n",
      "16         Bangladesh           13356372\n",
      "57              Egypt           13266304\n",
      "\n",
      "Countries with the most population decline from 2015 to 2022:\n",
      "\n",
      "          Country/Territory  Population Change\n",
      "218                 Ukraine           -5280825\n",
      "102                   Japan           -3299241\n",
      "227               Venezuela           -2228020\n",
      "99                    Italy           -1195432\n",
      "112                 Lebanon            -909201\n",
      "30                 Bulgaria            -527300\n",
      "77                   Greece            -421670\n",
      "184                  Serbia            -298131\n",
      "25   Bosnia and Herzegovina            -290798\n",
      "195             South Sudan            -281135\n"
     ]
    }
   ],
   "source": [
    "# Calculate population change from 2015 to 2022\n",
    "df['Population Change'] = df['2022 Population'] - df['2015 Population']\n",
    "\n",
    "# Sort the DataFrame by population change in descending order to find the most significant changes\n",
    "most_growth = df.sort_values(by='Population Change', ascending=False).head(10)  # Top 10 \n",
    "most_decline = df.sort_values(by='Population Change', ascending=True).head(10)  # bottom 10 \n",
    "\n",
    "# Display the results\n",
    "print(\"Countries with the most population growth from 2015 to 2022:\")\n",
    "print()\n",
    "print(most_growth[['Country/Territory', 'Population Change']])\n",
    "\n",
    "print(\"\\nCountries with the most population decline from 2015 to 2022:\")\n",
    "print()\n",
    "print(most_decline[['Country/Territory', 'Population Change']])"
   ]
  },
  {
   "cell_type": "code",
   "execution_count": 24,
   "id": "900dad96",
   "metadata": {},
   "outputs": [
    {
     "data": {
      "image/png": "[encoded data removed]",
      "text/plain": [
       "<Figure size 1600x900 with 1 Axes>"
      ]
     },
     "metadata": {},
     "output_type": "display_data"
    }
   ],
   "source": [
    "# Sort the DataFrame by population change\n",
    "df = df.sort_values(by='Population Change', ascending=False)\n",
    "\n",
    "# Select the top N countries with the most significant changes (you can adjust N)\n",
    "N = 10\n",
    "top_countries = df.head(N)\n",
    "\n",
    "# Create a bar chart to visualize the changes\n",
    "plt.figure(figsize=(16, 9))\n",
    "bars = plt.barh(top_countries['Country/Territory'], top_countries['Population Change'], color='dodgerblue')\n",
    "plt.xlabel('population Change (2015-2022) in Millions')\n",
    "plt.title('Top {} Countries with the Most Significant Population Change (2015-2022)'.format(N))\n",
    "plt.gca().invert_yaxis()  # Invert the y-axis \n",
    "plt.grid(axis='x', linestyle='--', alpha=0.6)\n",
    "\n",
    "# Add numbers inside the bars\n",
    "for bar in bars:\n",
    "    plt.annotate(f\"{round(bar.get_width() / 1e6, 1)}M\",\n",
    "                 (bar.get_width(), bar.get_y() + bar.get_height() / 2),\n",
    "                 va='center', ha='left', xytext=(5, 0),\n",
    "                 textcoords='offset points')\n"
   ]
  },
  {
   "cell_type": "code",
   "execution_count": 25,
   "id": "92d484f9",
   "metadata": {},
   "outputs": [
    {
     "data": {
      "image/png": "[encoded data removed]",
      "text/plain": [
       "<Figure size 1600x900 with 1 Axes>"
      ]
     },
     "metadata": {},
     "output_type": "display_data"
    }
   ],
   "source": [
    "# Sort the DataFrame by population change\n",
    "df = df.sort_values(by='Population Change', ascending=False)\n",
    "\n",
    "# Select the top N countries with the most significant changes (you can adjust N)\n",
    "N = 10\n",
    "top_countries = df.tail(N)\n",
    "\n",
    "# Create a bar chart to visualize the changes\n",
    "plt.figure(figsize=(16, 9))\n",
    "bars = plt.barh(top_countries['Country/Territory'], top_countries['Population Change'], color='red')\n",
    "plt.xlabel('Population Change (2015-2022) in Millions')\n",
    "plt.title('Top {} Countries with the least/negative Population Change (2015-2022)'.format(N))\n",
    "plt.gca().invert_yaxis()  # Invert the y-axis \n",
    "plt.grid(axis='x', linestyle='--', alpha=0.6)\n",
    "\n",
    "# Add numbers inside the bars\n",
    "for bar in bars:\n",
    "    plt.annotate(f\"{round(bar.get_width() / 1e6, 1)}M\",\n",
    "                 (bar.get_width(), bar.get_y() + bar.get_height() / 2),\n",
    "                 va='center', ha='right', xytext=(10, 0),\n",
    "                 textcoords='offset points')"
   ]
  },
  {
   "cell_type": "code",
   "execution_count": 27,
   "id": "7b5586e3",
   "metadata": {},
   "outputs": [],
   "source": [
    "df_continents.to_csv('Continents.csv', index=False)"
   ]
  },
  {
   "cell_type": "code",
   "execution_count": 29,
   "id": "5227c44c",
   "metadata": {},
   "outputs": [],
   "source": [
    "continent_population.to_csv('continent_population_change.csv', index=False)"
   ]
  }
 ],
 "metadata": {
  "kernelspec": {
   "display_name": "Python 3",
   "language": "python",
   "name": "python3"
  },
  "language_info": {
   "codemirror_mode": {
    "name": "ipython",
    "version": 3
   },
   "file_extension": ".py",
   "mimetype": "text/x-python",
   "name": "python",
   "nbconvert_exporter": "python",
   "pygments_lexer": "ipython3",
   "version": "3.10.7"
  }
 },
 "nbformat": 4,
 "nbformat_minor": 5
}
